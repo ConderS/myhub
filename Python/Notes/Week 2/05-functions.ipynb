{
 "cells": [
  {
   "cell_type": "markdown",
   "metadata": {},
   "source": [
    "# def\n",
    "+ used to define functions\n",
    "- is an executable statement, not a declaration, that can appear anywhere, even\n",
    "inside another function definition\n",
    "- updates an existing function definition\n",
    "- objects are passed as arguments\n",
    "- variables in function body are 'local' to the function. they\n",
    "disappear when the function terminates\n",
    "- like 'if', def defines a statement block, so there must be a \n",
    "':' at the end of the def line, and all the statements in the \n",
    "function body must be indented\n"
   ]
  },
  {
   "cell_type": "code",
   "execution_count": 2,
   "metadata": {
    "collapsed": false
   },
   "outputs": [
    {
     "name": "stdout",
     "output_type": "stream",
     "text": [
      "8\n",
      "64\n"
     ]
    }
   ],
   "source": [
    "# both prints are indented, forming a statement block\n",
    "\n",
    "def foo(n):\n",
    "    print(n)\n",
    "    print(n*n)\n",
    "    \n",
    "foo(8)"
   ]
  },
  {
   "cell_type": "code",
   "execution_count": 3,
   "metadata": {
    "collapsed": false
   },
   "outputs": [
    {
     "name": "stdout",
     "output_type": "stream",
     "text": [
      "4.0\n",
      "16\n"
     ]
    }
   ],
   "source": [
    "# redefine foo\n",
    "\n",
    "def foo(n):\n",
    "    print(n/2)\n",
    "    print(2*n)\n",
    "\n",
    "foo(8)"
   ]
  },
  {
   "cell_type": "code",
   "execution_count": 4,
   "metadata": {
    "collapsed": false
   },
   "outputs": [
    {
     "ename": "IndentationError",
     "evalue": "unexpected indent (<ipython-input-4-15e5a301bfe0>, line 5)",
     "output_type": "error",
     "traceback": [
      "\u001b[0;36m  File \u001b[0;32m\"<ipython-input-4-15e5a301bfe0>\"\u001b[0;36m, line \u001b[0;32m5\u001b[0m\n\u001b[0;31m    print(n*n)\u001b[0m\n\u001b[0m    ^\u001b[0m\n\u001b[0;31mIndentationError\u001b[0m\u001b[0;31m:\u001b[0m unexpected indent\n"
     ]
    }
   ],
   "source": [
    "# bad indenting \n",
    "\n",
    "def foo(n):\n",
    "  print(n)\n",
    "    print(n*n)"
   ]
  },
  {
   "cell_type": "markdown",
   "metadata": {},
   "source": [
    "# return statement\n",
    "\n",
    "\n"
   ]
  },
  {
   "cell_type": "code",
   "execution_count": 5,
   "metadata": {
    "collapsed": false
   },
   "outputs": [
    {
     "name": "stdout",
     "output_type": "stream",
     "text": [
      "here\n"
     ]
    }
   ],
   "source": [
    "def foo():\n",
    "    print('here')\n",
    "    # exit foo, no explicit return val, so return 'None'\n",
    "    return \n",
    "    print('there')\n",
    "\n",
    "foo()"
   ]
  },
  {
   "cell_type": "code",
   "execution_count": 6,
   "metadata": {
    "collapsed": false
   },
   "outputs": [
    {
     "name": "stdout",
     "output_type": "stream",
     "text": [
      "here\n"
     ]
    },
    {
     "data": {
      "text/plain": [
       "234"
      ]
     },
     "execution_count": 6,
     "metadata": {},
     "output_type": "execute_result"
    }
   ],
   "source": [
    "def foo():\n",
    "    print('here')\n",
    "    # exit, return 234\n",
    "    return 234\n",
    "    print('there')\n",
    "    \n",
    "foo()"
   ]
  },
  {
   "cell_type": "code",
   "execution_count": 7,
   "metadata": {
    "collapsed": true
   },
   "outputs": [],
   "source": [
    "# falling off the end of a function...\n",
    "\n",
    "def foo():\n",
    "    print('here')"
   ]
  },
  {
   "cell_type": "code",
   "execution_count": 8,
   "metadata": {
    "collapsed": false
   },
   "outputs": [
    {
     "name": "stdout",
     "output_type": "stream",
     "text": [
      "here\n"
     ]
    }
   ],
   "source": [
    "# is equivalent to \n",
    "\n",
    "def foo():\n",
    "    print('here')\n",
    "    return None\n",
    "\n",
    "foo()"
   ]
  },
  {
   "cell_type": "markdown",
   "metadata": {},
   "source": [
    "# args are not typed"
   ]
  },
  {
   "cell_type": "code",
   "execution_count": 9,
   "metadata": {
    "collapsed": true
   },
   "outputs": [],
   "source": [
    "# since args are not types, \n",
    "# foo can take any type of args that work with '*'\n",
    "\n",
    "def foo(a,b):\n",
    "    return (a*b)\n"
   ]
  },
  {
   "cell_type": "code",
   "execution_count": 10,
   "metadata": {
    "collapsed": false
   },
   "outputs": [
    {
     "data": {
      "text/plain": [
       "10"
      ]
     },
     "execution_count": 10,
     "metadata": {},
     "output_type": "execute_result"
    }
   ],
   "source": [
    "foo(2,5)"
   ]
  },
  {
   "cell_type": "code",
   "execution_count": 11,
   "metadata": {
    "collapsed": false
   },
   "outputs": [
    {
     "data": {
      "text/plain": [
       "'barbarbarbar'"
      ]
     },
     "execution_count": 11,
     "metadata": {},
     "output_type": "execute_result"
    }
   ],
   "source": [
    "foo('bar', 4)"
   ]
  },
  {
   "cell_type": "code",
   "execution_count": 12,
   "metadata": {
    "collapsed": false
   },
   "outputs": [
    {
     "data": {
      "text/plain": [
       "(30+50j)"
      ]
     },
     "execution_count": 12,
     "metadata": {},
     "output_type": "execute_result"
    }
   ],
   "source": [
    "foo(3+5j, 10)"
   ]
  },
  {
   "cell_type": "markdown",
   "metadata": {},
   "source": [
    "# Example - palindromes\n",
    "- unchanged under reverse\n",
    "    "
   ]
  },
  {
   "cell_type": "code",
   "execution_count": 13,
   "metadata": {
    "collapsed": false
   },
   "outputs": [
    {
     "name": "stdout",
     "output_type": "stream",
     "text": [
      "radar True\n",
      "level True\n",
      "larry False\n",
      "step on no pets True\n"
     ]
    }
   ],
   "source": [
    "pals = ['radar', 'level', 'larry', 'step on no pets']\n",
    "\n",
    "def pal(s):\n",
    "    l = len(s)\n",
    "    # len of half, ignoring middle if odd\n",
    "    lh = l//2\n",
    "    for j in range(0, lh):\n",
    "        if s[j] != s[l-j-1]:\n",
    "            return False\n",
    "    return True\n",
    "\n",
    "for p in pals:\n",
    "    print(p, pal(p))\n"
   ]
  },
  {
   "cell_type": "markdown",
   "metadata": {},
   "source": [
    "# Python supports recursive functions"
   ]
  },
  {
   "cell_type": "code",
   "execution_count": 14,
   "metadata": {
    "collapsed": false
   },
   "outputs": [
    {
     "data": {
      "text/plain": [
       "120"
      ]
     },
     "execution_count": 14,
     "metadata": {},
     "output_type": "execute_result"
    }
   ],
   "source": [
    "def fact(n):\n",
    "    if n == 0:\n",
    "        return(1)\n",
    "    else:\n",
    "        return(n * fact(n-1))\n",
    "\n",
    "fact(5)"
   ]
  },
  {
   "cell_type": "markdown",
   "metadata": {},
   "source": [
    "# Supply a docstring(and comments) to increase readibility\n",
    "- a docstring is a comment placed as the first statement in the function definition\n",
    "- can use triple quotes(''') for multiline docstrings\n",
    "- many tools(like spyder) will display the docstring automatically\n",
    "- in Jupyter notebooks, type function name, then hit shift-tab \n",
    "- docstring is available as a function attribute"
   ]
  },
  {
   "cell_type": "code",
   "execution_count": 15,
   "metadata": {
    "collapsed": false
   },
   "outputs": [
    {
     "data": {
      "text/plain": [
       "[120, 'This function recursively computes factorial']"
      ]
     },
     "execution_count": 15,
     "metadata": {},
     "output_type": "execute_result"
    }
   ],
   "source": [
    "\n",
    "# a comment as the first line of the function\n",
    "# in triple quotes can be accessed by interactive documentation tools\n",
    "\n",
    "def fact(n):\n",
    "    \"This function recursively computes factorial\"\n",
    "    # termination case\n",
    "    if n == 0:\n",
    "        return(1)\n",
    "    else:\n",
    "        # solve a simpler problem\n",
    "        return(n * fact(n-1))\n",
    "\n",
    "[fact(5), fact.__doc__]"
   ]
  },
  {
   "cell_type": "code",
   "execution_count": 16,
   "metadata": {
    "collapsed": false
   },
   "outputs": [
    {
     "data": {
      "text/plain": [
       "24"
      ]
     },
     "execution_count": 16,
     "metadata": {},
     "output_type": "execute_result"
    }
   ],
   "source": [
    "fact(4)"
   ]
  },
  {
   "cell_type": "code",
   "execution_count": 17,
   "metadata": {
    "collapsed": false
   },
   "outputs": [
    {
     "name": "stdout",
     "output_type": "stream",
     "text": [
      "radar True\n",
      "level True\n",
      "larry False\n",
      "step on no pets True\n"
     ]
    }
   ],
   "source": [
    "# recursive version of pal\n",
    "# checks first and last chars, then works on the middle\n",
    "\n",
    "def palr(s):\n",
    "    # empty\n",
    "    if len(s) == 0:\n",
    "        return True\n",
    "    # middle when odd\n",
    "    if len(s) == 1:\n",
    "        return True\n",
    "    if s[0] == s[-1]:\n",
    "        # first and last chars are the same\n",
    "        # \n",
    "        return palr(s[1:-1])\n",
    "    else:\n",
    "        return False\n",
    "\n",
    "for p in pals:\n",
    "    print(p, palr(p))"
   ]
  },
  {
   "cell_type": "code",
   "execution_count": 18,
   "metadata": {
    "collapsed": true
   },
   "outputs": [],
   "source": [
    "# easier way to do pal\n",
    "# just reverse and compare\n",
    "\n",
    "def paleasy(s):\n",
    "    return s == s[::-1]"
   ]
  },
  {
   "cell_type": "code",
   "execution_count": 19,
   "metadata": {
    "collapsed": false
   },
   "outputs": [
    {
     "data": {
      "text/plain": [
       "True"
      ]
     },
     "execution_count": 19,
     "metadata": {},
     "output_type": "execute_result"
    }
   ],
   "source": [
    "# pal function also works on lists\n",
    "\n",
    "pal([1,2,5,2,1])"
   ]
  },
  {
   "cell_type": "code",
   "execution_count": 20,
   "metadata": {
    "collapsed": false
   },
   "outputs": [
    {
     "data": {
      "text/plain": [
       "True"
      ]
     },
     "execution_count": 20,
     "metadata": {},
     "output_type": "execute_result"
    }
   ],
   "source": [
    "# and tuples\n",
    "\n",
    "pal((1,2,5,2,1))"
   ]
  },
  {
   "cell_type": "markdown",
   "metadata": {},
   "source": [
    "# Functions are objects\n",
    "- like everything else in python, functions are just objects, with the special property that a function can be 'applied to arguments'\n",
    "- functions can be\n",
    "    - assigned to variables\n",
    "    - passed as arguments\n",
    "    - returned as values\n",
    "    - held in collections"
   ]
  },
  {
   "cell_type": "code",
   "execution_count": 21,
   "metadata": {
    "collapsed": false
   },
   "outputs": [
    {
     "name": "stdout",
     "output_type": "stream",
     "text": [
      "<function fact at 0x106a58d08>\n",
      "<function fact at 0x106a58d08>\n"
     ]
    },
    {
     "data": {
      "text/plain": [
       "30414093201713378043612608166064768844377641568960512000000000000"
      ]
     },
     "execution_count": 21,
     "metadata": {},
     "output_type": "execute_result"
    }
   ],
   "source": [
    "# foo refers to same function object as fact\n",
    "\n",
    "foo = fact\n",
    "print(foo)\n",
    "print(fact)\n",
    "foo(50)"
   ]
  },
  {
   "cell_type": "code",
   "execution_count": 22,
   "metadata": {
    "collapsed": false
   },
   "outputs": [
    {
     "data": {
      "text/plain": [
       "(24, 6)"
      ]
     },
     "execution_count": 22,
     "metadata": {},
     "output_type": "execute_result"
    }
   ],
   "source": [
    "# takes a function as 2nd arg\n",
    "\n",
    "def outer2(n, inner):\n",
    "    return(inner(n), inner(n-1))\n",
    "\n",
    "outer2(4, fact)"
   ]
  },
  {
   "cell_type": "code",
   "execution_count": 23,
   "metadata": {
    "collapsed": false
   },
   "outputs": [
    {
     "data": {
      "text/plain": [
       "[<function __main__.f1>, <function __main__.f2>, <function __main__.f3>]"
      ]
     },
     "execution_count": 23,
     "metadata": {},
     "output_type": "execute_result"
    }
   ],
   "source": [
    "# stick some functions in a list and run each of them\n",
    "\n",
    "def f1(n):\n",
    "    return n + 1\n",
    "\n",
    "def f2(n):\n",
    "    return n + 2\n",
    "\n",
    "def f3(n):\n",
    "    return n + 3\n",
    "\n",
    "flist = [f1,f2,f3]\n",
    "flist"
   ]
  },
  {
   "cell_type": "code",
   "execution_count": 24,
   "metadata": {
    "collapsed": false
   },
   "outputs": [
    {
     "data": {
      "text/plain": [
       "[11, 12, 13]"
      ]
     },
     "execution_count": 24,
     "metadata": {},
     "output_type": "execute_result"
    }
   ],
   "source": [
    "# run the list of functions\n",
    "\n",
    "[f(10) for f in flist]"
   ]
  },
  {
   "cell_type": "markdown",
   "metadata": {},
   "source": [
    "# Can nest function definitions"
   ]
  },
  {
   "cell_type": "code",
   "execution_count": 25,
   "metadata": {
    "collapsed": false
   },
   "outputs": [
    {
     "data": {
      "text/plain": [
       "[5, 4, 5]"
      ]
     },
     "execution_count": 25,
     "metadata": {},
     "output_type": "execute_result"
    }
   ],
   "source": [
    "def outer(n):\n",
    "    # nested def\n",
    "    def inner(z):\n",
    "        return(z+1)\n",
    "    # return two values and the inner function\n",
    "    return([inner(n), inner(n-1), inner])\n",
    "\n",
    "[val1, val2, inner] = outer(4)\n",
    "\n",
    "[val1, val2, inner(4)]"
   ]
  },
  {
   "cell_type": "markdown",
   "metadata": {},
   "source": [
    "# inner functions can form 'closures' \n",
    "- advanced technique, but can be very useful"
   ]
  },
  {
   "cell_type": "code",
   "execution_count": 2,
   "metadata": {
    "collapsed": false
   },
   "outputs": [
    {
     "name": "stdout",
     "output_type": "stream",
     "text": [
      "15\n",
      "19\n"
     ]
    }
   ],
   "source": [
    "def outer(n):\n",
    "    # nested def\n",
    "    def inner(z):\n",
    "        # inner will 'capture' the value of n\n",
    "        return(z+n+1)\n",
    "    return inner\n",
    "\n",
    "inner4 = outer(4)\n",
    "print(inner4(10))\n",
    "\n",
    "inner8 = outer(8)\n",
    "print(inner8(10))\n"
   ]
  }
 ],
 "metadata": {
  "anaconda-cloud": {},
  "kernelspec": {
   "display_name": "Python [conda root]",
   "language": "python",
   "name": "conda-root-py"
  },
  "language_info": {
   "codemirror_mode": {
    "name": "ipython",
    "version": 3
   },
   "file_extension": ".py",
   "mimetype": "text/x-python",
   "name": "python",
   "nbconvert_exporter": "python",
   "pygments_lexer": "ipython3",
   "version": "3.5.2"
  }
 },
 "nbformat": 4,
 "nbformat_minor": 0
}
