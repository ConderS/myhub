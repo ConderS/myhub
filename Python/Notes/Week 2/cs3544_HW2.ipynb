{
 "cells": [
  {
   "cell_type": "code",
   "execution_count": 1,
   "metadata": {
    "collapsed": false
   },
   "outputs": [
    {
     "data": {
      "text/plain": [
       "'3.5.2 |Anaconda 4.2.0 (64-bit)| (default, Jul  5 2016, 11:41:13) [MSC v.1900 64 bit (AMD64)]'"
      ]
     },
     "execution_count": 1,
     "metadata": {},
     "output_type": "execute_result"
    }
   ],
   "source": [
    "import sys\n",
    "sys.version"
   ]
  },
  {
   "cell_type": "code",
   "execution_count": 2,
   "metadata": {
    "collapsed": false
   },
   "outputs": [
    {
     "data": {
      "text/plain": [
       "32"
      ]
     },
     "execution_count": 2,
     "metadata": {},
     "output_type": "execute_result"
    }
   ],
   "source": [
    "def dot(tv0, tv1):\n",
    "    \n",
    "    if len(tv0) > len(tv1):\n",
    "        vector = tv1\n",
    "    else:\n",
    "        vector = tv0\n",
    "    \n",
    "    dotP = 0\n",
    "     \n",
    "    for j, elem in enumerate(vector):\n",
    "        dotP += tv0[j] * tv1[j]\n",
    "    \n",
    "    return dotP\n",
    "\n",
    "tv0 = [1,2,3]\n",
    "tv1 = [4,5,6,7,8,9]\n",
    "dot(tv0, tv1)"
   ]
  },
  {
   "cell_type": "code",
   "execution_count": 3,
   "metadata": {
    "collapsed": false
   },
   "outputs": [
    {
     "data": {
      "text/plain": [
       "[[1, 2, 3], 3, [4, 5, 6, 7, 8, 9], 6]"
      ]
     },
     "execution_count": 3,
     "metadata": {},
     "output_type": "execute_result"
    }
   ],
   "source": [
    "def shortlong(tv0, tv1):\n",
    "    \n",
    "    if len(tv0) > len(tv1):\n",
    "        shortV = tv1\n",
    "        longV = tv0\n",
    "    else:\n",
    "        shortV = tv0\n",
    "        longV = tv1\n",
    "    \n",
    "    vector = []\n",
    "\n",
    "    vector.append(shortV) \n",
    "    vector.extend([len(shortV)])\n",
    "    vector.append(longV)\n",
    "    vector.extend([len(longV)])\n",
    "    \n",
    "    return vector\n",
    "\n",
    "shortlong(tv0, tv1)"
   ]
  },
  {
   "cell_type": "code",
   "execution_count": 4,
   "metadata": {
    "collapsed": false
   },
   "outputs": [
    {
     "data": {
      "text/plain": [
       "[[1, 2, 3], 3, [4, 5, 6, 7, 8, 9], 6]"
      ]
     },
     "execution_count": 4,
     "metadata": {},
     "output_type": "execute_result"
    }
   ],
   "source": [
    "shortlong(tv1, tv0)"
   ]
  },
  {
   "cell_type": "code",
   "execution_count": 5,
   "metadata": {
    "collapsed": false
   },
   "outputs": [
    {
     "data": {
      "text/plain": [
       "[32, 38, 44]"
      ]
     },
     "execution_count": 5,
     "metadata": {},
     "output_type": "execute_result"
    }
   ],
   "source": [
    "def dotmv(tv0, tv1, n):\n",
    "    \n",
    "    vector = shortlong(tv0, tv1)\n",
    "    shortV = vector[0]\n",
    "    longV = vector[2]\n",
    "\n",
    "    dotP = 0\n",
    "    \n",
    "    for j, elem in enumerate(shortV):\n",
    "        dotP += shortV[j] * longV[j+n]\n",
    "\n",
    "    return dotP\n",
    "\n",
    "[dotmv(tv0, tv1, 0), dotmv(tv0, tv1, 1), dotmv(tv0, tv1, 2)]"
   ]
  },
  {
   "cell_type": "code",
   "execution_count": 6,
   "metadata": {
    "collapsed": false
   },
   "outputs": [
    {
     "data": {
      "text/plain": [
       "[32, 56, 80]"
      ]
     },
     "execution_count": 6,
     "metadata": {},
     "output_type": "execute_result"
    }
   ],
   "source": [
    "import copy\n",
    "\n",
    "def dotpad(tv0, tv1, n):\n",
    "    vector = shortlong(tv0, tv1)\n",
    "    \n",
    "    #slicing only creates a SHALLOW copy\n",
    "    copiedV = copy.deepcopy(vector) \n",
    "    \n",
    "    shortV = copiedV[0]\n",
    "    longV = copiedV[2]\n",
    "    \n",
    "    dotP = 0\n",
    "    \n",
    "    for j, elem in enumerate(longV):\n",
    "        \n",
    "        if j >= len(shortV):\n",
    "            shortV.extend([n])\n",
    "        \n",
    "        dotP += shortV[j] * longV[j]\n",
    "    \n",
    "    return dotP\n",
    "\n",
    "[dotpad(tv0, tv1, 0), dotpad(tv0, tv1, 1), dotpad(tv0, tv1, 2)]"
   ]
  },
  {
   "cell_type": "code",
   "execution_count": 7,
   "metadata": {
    "collapsed": false,
    "scrolled": false
   },
   "outputs": [
    {
     "name": "stdout",
     "output_type": "stream",
     "text": [
      "found 2, of <class 'float'>\n",
      "found 4, of <class 'str'>\n",
      "found 4, of <class 'int'>\n",
      "found 2, of <class 'builtin_function_or_method'>\n",
      "sum of <class 'int'> is 1049673\n",
      "sum of <class 'float'> is 5.48\n",
      "alpha sorted concat of strings: butler|science|shapiro|unicode\n"
     ]
    },
    {
     "data": {
      "text/plain": [
       "{float: [3.14, 2.34],\n",
       " str: ['shapiro', 'science', 'butler', 'unicode'],\n",
       " int: [23, 1048576, 1031, 43],\n",
       " builtin_function_or_method: [<function sorted>, <function len>]}"
      ]
     },
     "execution_count": 7,
     "metadata": {},
     "output_type": "execute_result"
    }
   ],
   "source": [
    "def cbt(objList):\n",
    "    d = dict()\n",
    "\n",
    "    for j in objList:\n",
    "        d.setdefault(type(j), [])\n",
    "        d[type(j)].append(j)\n",
    "        \n",
    "    for key, value in d.items():\n",
    "        print('found {}, of {}'.format(str(len([item for item in value if item])), str(key)))\n",
    "    \n",
    "    someInt = type(int(23))\n",
    "    intValues = d.get(someInt)\n",
    "    intSum = sum(intValues)\n",
    "    print('sum of {} is {}'.format(someInt, intSum))\n",
    "  \n",
    "    someF = type(float(23))\n",
    "    fValues = d.get(someF)\n",
    "    fSum = sum(fValues)\n",
    "    print('sum of {} is {}'.format(someF, fSum))\n",
    "  \n",
    "    stringL = d.get(type(str('hi')))\n",
    "    stringL = sorted(stringL)\n",
    "    stringL = '|'.join(stringL)\n",
    "    \n",
    "    print('alpha sorted concat of strings: {}'.format(stringL))\n",
    "    \n",
    "    return d\n",
    "\n",
    "x = [23, 2**20, 3.14, \"shapiro\", 2**10+7, sorted, 2.34, 'science', len, 43, \"butler\", 'unicode']\n",
    "cbt(x)"
   ]
  },
  {
   "cell_type": "code",
   "execution_count": 13,
   "metadata": {
    "collapsed": false,
    "scrolled": true
   },
   "outputs": [
    {
     "data": {
      "text/plain": [
       "[[0, 1], [2, 3], [4, 5], [6, 7], [8, 9]]"
      ]
     },
     "execution_count": 13,
     "metadata": {},
     "output_type": "execute_result"
    }
   ],
   "source": [
    "def partition(inputL, lenS, overlap):\n",
    "    \n",
    "    output = []\n",
    "    seg = []\n",
    "    i = 0\n",
    "    counter = 0\n",
    "    \n",
    "    while i <= len(inputL) and overlap < lenS:\n",
    "        \n",
    "        if counter >= lenS:\n",
    "            output.append(seg)\n",
    "            counter = 0\n",
    "           \n",
    "            if overlap > 0:\n",
    "                seg = seg[lenS - overlap:lenS]\n",
    "                counter += overlap\n",
    "            else:\n",
    "                seg = []\n",
    "                \n",
    "        if i < len(inputL) and counter < lenS:\n",
    "            seg.extend([inputL[i]])\n",
    "        \n",
    "        i += 1\n",
    "        counter += 1\n",
    "        \n",
    "    return output\n",
    "\n",
    "partition(list(range(10)), 2, 0)"
   ]
  },
  {
   "cell_type": "code",
   "execution_count": 14,
   "metadata": {
    "collapsed": false
   },
   "outputs": [
    {
     "data": {
      "text/plain": [
       "[[0, 1, 2], [3, 4, 5], [6, 7, 8]]"
      ]
     },
     "execution_count": 14,
     "metadata": {},
     "output_type": "execute_result"
    }
   ],
   "source": [
    "partition(list(range(10)), 3, 0)"
   ]
  },
  {
   "cell_type": "code",
   "execution_count": 10,
   "metadata": {
    "collapsed": false
   },
   "outputs": [
    {
     "data": {
      "text/plain": [
       "[[0, 1], [1, 2], [2, 3], [3, 4], [4, 5], [5, 6], [6, 7], [7, 8], [8, 9]]"
      ]
     },
     "execution_count": 10,
     "metadata": {},
     "output_type": "execute_result"
    }
   ],
   "source": [
    "partition(list(range(10)), 2, 1)"
   ]
  },
  {
   "cell_type": "code",
   "execution_count": 11,
   "metadata": {
    "collapsed": false
   },
   "outputs": [
    {
     "data": {
      "text/plain": [
       "[[0, 1, 2, 3], [4, 5, 6, 7]]"
      ]
     },
     "execution_count": 11,
     "metadata": {},
     "output_type": "execute_result"
    }
   ],
   "source": [
    "partition(list(range(10)), 4, 0)"
   ]
  },
  {
   "cell_type": "code",
   "execution_count": 12,
   "metadata": {
    "collapsed": false
   },
   "outputs": [
    {
     "data": {
      "text/plain": [
       "[[0, 1, 2, 3],\n",
       " [1, 2, 3, 4],\n",
       " [2, 3, 4, 5],\n",
       " [3, 4, 5, 6],\n",
       " [4, 5, 6, 7],\n",
       " [5, 6, 7, 8],\n",
       " [6, 7, 8, 9]]"
      ]
     },
     "execution_count": 12,
     "metadata": {},
     "output_type": "execute_result"
    }
   ],
   "source": [
    "partition(list(range(10)), 4, 3)"
   ]
  },
  {
   "cell_type": "code",
   "execution_count": 23,
   "metadata": {
    "collapsed": false
   },
   "outputs": [
    {
     "data": {
      "text/plain": [
       "[234, [0, 1, 2], 'asdf', [(0, 'a'), (1, 'b'), (2, 'c')]]"
      ]
     },
     "execution_count": 23,
     "metadata": {},
     "output_type": "execute_result"
    }
   ],
   "source": [
    "def expandlazy(x):\n",
    "\n",
    "    if isinstance(x, range) or isinstance(x, zip) or isinstance(x, enumerate):\n",
    "        output = list(x)\n",
    "    else:\n",
    "        output = x\n",
    "    \n",
    "    return output\n",
    "\n",
    "[expandlazy(234), expandlazy(range(3)), expandlazy('asdf'), expandlazy(enumerate(['a','b','c']))]"
   ]
  },
  {
   "cell_type": "code",
   "execution_count": 24,
   "metadata": {
    "collapsed": false
   },
   "outputs": [
    {
     "data": {
      "text/plain": [
       "[1,\n",
       " 2,\n",
       " 3,\n",
       " [0, 1, 2, 3],\n",
       " 5,\n",
       " [(1, 4), (2, 5)],\n",
       " 'asdf',\n",
       " [(0, 'a'), (1, 'b'), (2, 'c')]]"
      ]
     },
     "execution_count": 24,
     "metadata": {},
     "output_type": "execute_result"
    }
   ],
   "source": [
    "def expandlazylist(x):\n",
    "  \n",
    "    output = []\n",
    "\n",
    "    for j in x: \n",
    "        if isinstance(j, range) or isinstance(j, zip) or isinstance(j, enumerate):\n",
    "            output.append(list(j))\n",
    "        else:\n",
    "            output.extend([j])\n",
    "    \n",
    "    return output\n",
    "\n",
    "x = [1,2,3, range(4), 5, zip([1,2,3], [4,5]), 'asdf', enumerate(['a', 'b', 'c'])]\n",
    "expandlazylist(x)"
   ]
  },
  {
   "cell_type": "code",
   "execution_count": 26,
   "metadata": {
    "collapsed": false
   },
   "outputs": [
    {
     "data": {
      "text/plain": [
       "[1, 2, 3, 4, 5, 6, 7, 8, 9, 11]"
      ]
     },
     "execution_count": 26,
     "metadata": {},
     "output_type": "execute_result"
    }
   ],
   "source": [
    "def flatten(x):\n",
    "    \n",
    "    output = []\n",
    "    for j in x:\n",
    "        if isinstance(j, list):\n",
    "            output.extend(flatten(j))\n",
    "        else:  \n",
    "            output.extend([j])\n",
    "        \n",
    "    return output\n",
    "\n",
    "flatten([1,[2,3,4,[5,6,[7,8],9],11]])"
   ]
  },
  {
   "cell_type": "code",
   "execution_count": 27,
   "metadata": {
    "collapsed": false
   },
   "outputs": [
    {
     "data": {
      "text/plain": [
       "[1, 2, 3, 4, 56, 44, 55, 7, 8]"
      ]
     },
     "execution_count": 27,
     "metadata": {},
     "output_type": "execute_result"
    }
   ],
   "source": [
    "flatten([1,2,3,[4,56],[44,55],7,8])"
   ]
  },
  {
   "cell_type": "code",
   "execution_count": 28,
   "metadata": {
    "collapsed": false
   },
   "outputs": [
    {
     "data": {
      "text/plain": [
       "[0, 1, 2, 3, 4, 5, 6, 7, 8, 9]"
      ]
     },
     "execution_count": 28,
     "metadata": {},
     "output_type": "execute_result"
    }
   ],
   "source": [
    "list(range(10))"
   ]
  },
  {
   "cell_type": "code",
   "execution_count": null,
   "metadata": {
    "collapsed": true
   },
   "outputs": [],
   "source": []
  }
 ],
 "metadata": {
  "anaconda-cloud": {},
  "kernelspec": {
   "display_name": "Python [conda root]",
   "language": "python",
   "name": "conda-root-py"
  },
  "language_info": {
   "codemirror_mode": {
    "name": "ipython",
    "version": 3
   },
   "file_extension": ".py",
   "mimetype": "text/x-python",
   "name": "python",
   "nbconvert_exporter": "python",
   "pygments_lexer": "ipython3",
   "version": "3.5.2"
  }
 },
 "nbformat": 4,
 "nbformat_minor": 1
}
