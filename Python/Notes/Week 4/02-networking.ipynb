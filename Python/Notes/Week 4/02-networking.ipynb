{
 "cells": [
  {
   "cell_type": "markdown",
   "metadata": {},
   "source": [
    "# Networking\n",
    "- 'socket' module has low level networking\n",
    "  - unpleasant to use\n",
    "  - you will probably never need it, as almost everything is HTTP\n",
    "- 'urllib' will snarf HTTP content\n",
    "- 'urllib.urlopen' will return an object similar to a file, with a few extra methods, so can iterate over the lines, or grab entire page as one string\n",
    "- [doc](https://docs.python.org/3.5/library/urllib.request.html#module-urllib.request)"
   ]
  },
  {
   "cell_type": "code",
   "execution_count": 1,
   "metadata": {
    "collapsed": false
   },
   "outputs": [],
   "source": [
    "import urllib.request\n",
    "\n",
    "cu = 'http://columbia.edu'\n",
    "\n",
    "# returns object that represents the connection - \n",
    "# similar to a file descriptor\n",
    "cur = urllib.request.urlopen(cu)"
   ]
  },
  {
   "cell_type": "code",
   "execution_count": 2,
   "metadata": {
    "collapsed": false
   },
   "outputs": [
    {
     "data": {
      "text/plain": [
       "[('Date', 'Sun, 19 Feb 2017 01:49:46 GMT'),\n",
       " ('Server', 'Apache'),\n",
       " ('Accept-Ranges', 'bytes'),\n",
       " ('Vary', 'Accept-Encoding,User-Agent'),\n",
       " ('Transfer-Encoding', 'chunked'),\n",
       " ('Content-Type', 'text/html'),\n",
       " ('Connection', 'close'),\n",
       " ('Set-Cookie',\n",
       "  'BIGipServer~CUIT~www.columbia.edu-80-pool=1311259520.20480.0000; expires=Sun, 19-Feb-2017 07:49:46 GMT; path=/')]"
      ]
     },
     "execution_count": 2,
     "metadata": {},
     "output_type": "execute_result"
    }
   ],
   "source": [
    "# headers from the server\n",
    "\n",
    "list(cur.headers.items())"
   ]
  },
  {
   "cell_type": "code",
   "execution_count": 3,
   "metadata": {
    "collapsed": false
   },
   "outputs": [
    {
     "data": {
      "text/plain": [
       "'Apache'"
      ]
     },
     "execution_count": 3,
     "metadata": {},
     "output_type": "execute_result"
    }
   ],
   "source": [
    "# headers is a dictionary\n",
    "\n",
    "cur.headers['Server']"
   ]
  },
  {
   "cell_type": "code",
   "execution_count": 4,
   "metadata": {
    "collapsed": false
   },
   "outputs": [
    {
     "data": {
      "text/plain": [
       "True"
      ]
     },
     "execution_count": 4,
     "metadata": {},
     "output_type": "execute_result"
    }
   ],
   "source": [
    "# similar to a file descriptor - \n",
    "# the network connection itself is an iterator\n",
    "\n",
    "cur is iter(cur)"
   ]
  },
  {
   "cell_type": "code",
   "execution_count": 5,
   "metadata": {
    "collapsed": false
   },
   "outputs": [
    {
     "data": {
      "text/plain": [
       "[b'<!DOCTYPE html PUBLIC \"-//W3C//DTD XHTML 1.0 Transitional//EN\" \"http://www.w3.org/TR/xhtml1/DTD/xhtml1-transitional.dtd\">\\n',\n",
       " b'<html xmlns=\"http://www.w3.org/1999/xhtml\" xml:lang=\"en\" lang=\"en\" dir=\"ltr\">\\n']"
      ]
     },
     "execution_count": 5,
     "metadata": {},
     "output_type": "execute_result"
    }
   ],
   "source": [
    "# usual iteration protocol reads one line at a time\n",
    "# note the lines comming back are byte arrays(b'), not strings\n",
    "# urllib doesn't know or try to guess what encoding is being used\n",
    "# by the server\n",
    "\n",
    "[next(cur), next(cur)]"
   ]
  },
  {
   "cell_type": "code",
   "execution_count": 6,
   "metadata": {
    "collapsed": false
   },
   "outputs": [
    {
     "data": {
      "text/plain": [
       "[b'<meta name=\"viewport\" content=\"maximum-scale=1.0, user-scalable=yes\" />\\n',\n",
       " b'<link type=\"text/css\" rel=\"stylesheet\" media=\"all\" href=\"modules/node/node.css\" />\\n',\n",
       " b'<link type=\"text/css\" rel=\"stylesheet\" media=\"all\" href=\"modules/system/defaults.css\" />\\n',\n",
       " b'<link type=\"text/css\" rel=\"stylesheet\" media=\"all\" href=\"modules/system/system.css\" />\\n',\n",
       " b'<link type=\"text/css\" rel=\"stylesheet\" media=\"all\" href=\"modules/system/system-menus.css\" />\\n',\n",
       " b'<link type=\"text/css\" rel=\"stylesheet\" media=\"all\" href=\"modules/user/user.css\" />\\n',\n",
       " b'<link type=\"text/css\" rel=\"stylesheet\" media=\"all\" href=\"sites/all/modules/contrib/cck/theme/content-module.css\" />\\n',\n",
       " b'<link type=\"text/css\" rel=\"stylesheet\" media=\"all\" href=\"sites/all/modules/contrib/ckeditor/ckeditor.css\" />\\n',\n",
       " b'<link type=\"text/css\" rel=\"stylesheet\" media=\"all\" href=\"sites/all/modules/contrib/ctools/css/ctools.css\" />\\n',\n",
       " b'<link type=\"text/css\" rel=\"stylesheet\" media=\"all\" href=\"sites/all/modules/contrib/date/date.css\" />\\n']"
      ]
     },
     "execution_count": 6,
     "metadata": {},
     "output_type": "execute_result"
    }
   ],
   "source": [
    "# grab the rest of the lines with 'list'\n",
    "\n",
    "lines = list(cur)\n",
    "lines[10:20]"
   ]
  },
  {
   "cell_type": "code",
   "execution_count": 7,
   "metadata": {
    "collapsed": false
   },
   "outputs": [
    {
     "name": "stdout",
     "output_type": "stream",
     "text": [
      "b'<!DOCTYPE html PUBLIC \"-//W3C//DTD XHTML 1.0 Transitional//EN\" \"http://www.w3.org/TR/xhtml1/DTD/xhtml1-transitional.dtd\">\\n'\n",
      "b'<html xmlns=\"http://www.w3.org/1999/xhtml\" xml:lang=\"en\" lang=\"en\" dir=\"ltr\">\\n'\n",
      "b'\\n'\n",
      "b'<!-- developed by CUIT -->\\n'\n",
      "b'<!-- 02/18/17, 8:25:35pm --><head>\\n'\n",
      "b'<meta http-equiv=\"Content-Type\" content=\"text/html; charset=utf-8\" />\\n'\n",
      "b'<meta http-equiv=\"X-UA-Compatible\" content=\"IE=edge\" >\\n'\n",
      "b'<meta name=\"msvalidate.01\" content=\"DB472D6D4C7DB1E74C6D939F9C8AA8B4\" />\\n'\n",
      "b'<title>Columbia University in the City of New York</title>\\n'\n",
      "b'<meta name=\"revisit-after\" content=\"1 day\" />\\n'\n",
      "b'<link rel=\"shortcut icon\" href=\"sites/all/themes/base/columbia2/images/favicon-crown.png\" type=\"image/x-icon\" />\\n'\n",
      "b'<script type=\"text/javascript\" src=\"sites/all/modules/ias/mdetect/mdetect.js\"></script>\\n'\n",
      "b'<meta name=\"viewport\" content=\"maximum-scale=1.0, user-scalable=yes\" />\\n'\n",
      "b'<link type=\"text/css\" rel=\"stylesheet\" media=\"all\" href=\"modules/node/node.css\" />\\n'\n",
      "b'<link type=\"text/css\" rel=\"stylesheet\" media=\"all\" href=\"modules/system/defaults.css\" />\\n'\n",
      "b'<link type=\"text/css\" rel=\"stylesheet\" media=\"all\" href=\"modules/system/system.css\" />\\n'\n",
      "b'<link type=\"text/css\" rel=\"stylesheet\" media=\"all\" href=\"modules/system/system-menus.css\" />\\n'\n",
      "b'<link type=\"text/css\" rel=\"stylesheet\" media=\"all\" href=\"modules/user/user.css\" />\\n'\n",
      "b'<link type=\"text/css\" rel=\"stylesheet\" media=\"all\" href=\"sites/all/modules/contrib/cck/theme/content-module.css\" />\\n'\n",
      "b'<link type=\"text/css\" rel=\"stylesheet\" media=\"all\" href=\"sites/all/modules/contrib/ckeditor/ckeditor.css\" />\\n'\n",
      "b'<link type=\"text/css\" rel=\"stylesheet\" media=\"all\" href=\"sites/all/modules/contrib/ctools/css/ctools.css\" />\\n'\n",
      "b'<link type=\"text/css\" rel=\"stylesheet\" media=\"all\" href=\"sites/all/modules/contrib/date/date.css\" />\\n'\n",
      "b'<link type=\"text/css\" rel=\"stylesheet\" media=\"all\" href=\"sites/all/modules/contrib/date/date_popup/themes/datepicker.css\" />\\n'\n",
      "b'<link type=\"text/css\" rel=\"stylesheet\" media=\"all\" href=\"sites/all/modules/contrib/date/date_popup/themes/jquery.timeentry.css\" />\\n'\n",
      "b'<link type=\"text/css\" rel=\"stylesheet\" media=\"all\" href=\"sites/all/modules/contrib/filefield/filefield.css\" />\\n'\n",
      "b'<link type=\"text/css\" rel=\"stylesheet\" media=\"all\" href=\"sites/all/modules/contrib/taxonomy_delegate/taxonomy_delegate.css\" />\\n'\n",
      "b'<link type=\"text/css\" rel=\"stylesheet\" media=\"all\" href=\"sites/all/modules/contrib/cck/modules/fieldgroup/fieldgroup.css\" />\\n'\n",
      "b'<link type=\"text/css\" rel=\"stylesheet\" media=\"all\" href=\"sites/all/modules/contrib/views/css/views.css\" />\\n'\n",
      "b'<link type=\"text/css\" rel=\"stylesheet\" media=\"all\" href=\"sites/all/themes/base/columbia2/columbia2-theme.css\" />\\n'\n",
      "b'<link type=\"text/css\" rel=\"stylesheet\" media=\"all\" href=\"sites/all/themes/ias/cu2/theme.css\" />\\n'\n",
      "b'<link type=\"text/css\" rel=\"stylesheet\" media=\"all\" href=\"sites/all/modules/ias/cuheader/tpl/cusearch/jquery-ui-1.8.4.custom/css/cupertino/jquery-ui-1.8.4.custom.css\" />\\n'\n",
      "b'<link type=\"text/css\" rel=\"stylesheet\" media=\"all\" href=\"sites/all/library/contrib/colorbox/example1/colorbox.css\" />\\n'\n",
      "b'<link type=\"text/css\" rel=\"stylesheet\" media=\"print\" href=\"sites/all/themes/base/columbia2/columbia2-print.css\" />\\n'\n",
      "b'<link rel=\"apple-touch-icon\" href=\"http://www.columbia.edu/sites/all/themes/base/columbia2/images/apple-touch-icon.png\" />\\n'\n",
      "b'<!--[if IE]><link type=\"text/css\" rel=\"stylesheet\" media=\"all\" href=\"http://www.columbia.edu/sites/all/themes/base/columbia2/columbia2-ie.css\" /><![endif]-->\\n'\n",
      "b'<script type=\"text/javascript\" src=\"sites/all/modules/contrib/jquery_update/replace/jquery-1.4.2.min.js\"></script>\\n'\n",
      "b'<script type=\"text/javascript\" src=\"misc/drupal.js\"></script>\\n'\n",
      "b'<script type=\"text/javascript\" src=\"sites/all/modules/ias/wind/wind.js\"></script>\\n'\n",
      "b'<script type=\"text/javascript\" src=\"sites/all/modules/contrib/google_analytics/googleanalytics.js\"></script>\\n'\n",
      "b'<script type=\"text/javascript\" src=\"sites/all/library/contrib/jquery.preloader.js\"></script>\\n'\n",
      "b'<script type=\"text/javascript\" src=\"sites/all/library/contrib/cufon/cufon-yui.js\"></script>\\n'\n",
      "b'<script type=\"text/javascript\" src=\"sites/all/library/contrib/cufon/Trajan_Pro_400.font.js\"></script>\\n'\n",
      "b'<script type=\"text/javascript\" src=\"sites/all/library/contrib/jquery.hoverIntent.minified.js\"></script>\\n'\n",
      "b'<script type=\"text/javascript\" src=\"sites/all/modules/contrib/simplemenu/superfish-1.4.8.js\"></script>\\n'\n",
      "b'<script type=\"text/javascript\" src=\"sites/all/modules/ias/cuheader/tpl/cusearch/jquery-ui-1.8.4.custom/js/jquery-ui-1.8.4.custom.min.js\"></script>\\n'\n",
      "b'<script type=\"text/javascript\" src=\"sites/all/library/contrib/colorbox/jquery.colorbox-min.js\"></script>\\n'\n",
      "b'<script type=\"text/javascript\" src=\"sites/all/themes/base/columbia2/gallery.js\"></script>\\n'\n",
      "b'<script type=\"text/javascript\" src=\"sites/all/themes/base/columbia2/columbia2.js\"></script>\\n'\n",
      "b'<script type=\"text/javascript\" src=\"sites/all/themes/ias/cu2/theme.js\"></script>\\n'\n",
      "b'<script type=\"text/javascript\" src=\"sites/all/themes/ias/cu2/home.js\"></script>\\n'\n",
      "b'<script type=\"text/javascript\">\\n'\n",
      "b'<!--//--><![CDATA[//><!--\\n'\n",
      "b'jQuery.extend(Drupal.settings, { \"basePath\": \"/\", \"wind\": { \"basePath\": \"/\", \"element\": \"\" }, \"googleanalytics\": { \"trackOutbound\": 1, \"trackMailto\": 1, \"trackDownload\": 1, \"trackDownloadExtensions\": \"7z|aac|arc|arj|asf|asx|avi|bin|csv|doc|exe|flv|gif|gz|gzip|hqx|jar|jpe?g|js|mp(2|3|4|e?g)|mov(ie)?|msi|msp|pdf|phps|png|ppt|qtm?|ra(m|r)?|sea|sit|tar|tgz|torrent|txt|wav|wma|wmv|wpd|xls|xml|z|zip\" }, \"drupal_q\": \"node/1\", \"base_url\": \"http://home.columbia.edu\", \"file_directory_path\": \"files/columbia\", \"galleryTimeout\": \"10000\" });\\n'\n",
      "b'//--><!]]>\\n'\n",
      "b'</script>\\n'\n",
      "b'<script type=\"text/javascript\">\\n'\n",
      "b'<!--//--><![CDATA[//><!--\\n'\n",
      "b'window.google_analytics_uacct = \"UA-18290390-1\";\\n'\n",
      "b'//--><!]]>\\n'\n",
      "b'</script>\\n'\n",
      "b'<!--[if gte IE 9]><script type=\"text/javascript\"> Cufon.set(\\'engine\\', \\'canvas\\'); </script><![endif]-->\\n'\n",
      "b'\\n'\n",
      "b'</head>\\n'\n",
      "b'<body id=\"top\" class=\"front not-logged-in node-type-special-page one-sidebar sidebar-first supadupa\">\\n'\n",
      "b'      <div id=\"skip-to-nav\"><a tabindex=\"0\" href=\"index.html#block-menu_block-2\">Jump to Navigation</a></div>\\n'\n",
      "b'  \\n'\n",
      "b'  <div id=\"container\"><div id=\"page-wrapper\"><div id=\"page\">\\n'\n",
      "b'\\n'\n",
      "b'    <div id=\"header\"><div class=\"section clearfix\">\\n'\n",
      "b'\\n'\n",
      "b'      \\n'\n",
      "b'              <div id=\"name-and-slogan\">\\n'\n",
      "b'                                    <h1 id=\"cu-name\">\\n'\n",
      "b'                <a href=\"index.html\" title=\"Home\" rel=\"home\"><span>Columbia University in the City of New York</span></a>\\n'\n",
      "b'              </h1>\\n'\n",
      "b'                      \\n'\n",
      "b'                  </div> <!-- /#name-and-slogan -->\\n'\n",
      "b'      \\n'\n",
      "b'      \\n'\n",
      "b'      \\n'\n",
      "b'    </div></div> <!-- /.section, /#header -->\\n'\n",
      "b'\\n'\n",
      "b'    <div id=\"main-wrapper\"><div id=\"main\" class=\"clearfix\">\\n'\n",
      "b'\\n'\n",
      "b'      <div id=\"content\" class=\"column\">\\n'\n",
      "b'              <div id=\"content-inner\"><div id=\"content-inner-inner\">\\n'\n",
      "b'  \\n'\n",
      "b'            \\n'\n",
      "b'          <div id=\"node-10\" class=\"node node-type-photo-gallery clearfix\">\\n'\n",
      "b'  \\n'\n",
      "b'  \\n'\n",
      "b'  <div class=\"content\">\\n'\n",
      "b'    <noscript>\\n'\n",
      "b'      <img src=\"files/columbia/imagecache/gallery/gallery/igloo.img_4361.hp_.jpg\" alt=\"Two Snow Domes on Morningside Campus \\xc3\\xa2\\xc2\\x80\\xc2\\x94 One Built by Student Civil Engineers\" title=\"Photo by Jennifer Pellerito\"  class=\"imagecache imagecache-gallery\" width=\"660\" height=\"337\" />    </noscript>\\n'\n",
      "b'    <div class=\"gallery-init\"><div class=\"gallery-thumb\"><span><a href=\"files/columbia/imagecache/gallery/gallery/igloo.img_4361.hp_.jpg\"><img src=\"files/columbia/imagecache/gallery-thumb/gallery/igloo.img_4361.hp_.jpg\" alt=\"Two Snow Domes on Morningside Campus \\xc3\\xa2\\xc2\\x80\\xc2\\x94 One Built by Student Civil Engineers\" title=\"Photo by Jennifer Pellerito\"  class=\"imagecache imagecache-gallery-thumb\" width=\"103\" height=\"59\" /></a></span><div class=\"photo-link\"><a href=\"http://www.columbia.edu/content/about-columbia.html\">http://www.columbia.edu/content/about-columbia.html</a></div><div class=\"description\"><p class=\"rteright\">\\r\\n'\n",
      "b'\\t<span style=\"font-size: 14px;\">Two Snow Domes on Morningside Campus &mdash; One Built by Student Civil Engineers</span><br />\\r\\n'\n",
      "b'\\t<a href=\"http://www.columbia.edu/content/about-columbia.html\"><span style=\"letter-spacing: 3px; font-size: 12px;\">ABOUT COLUMBIA</span></a></p>\\r\\n'\n",
      "b'</div></div></div><div class=\"gallery-init\"><div class=\"gallery-thumb\"><span><a href=\"files/columbia/imagecache/gallery/gallery/sierras.dsc_0053.jpg\"><img src=\"files/columbia/imagecache/gallery-thumb/gallery/sierras.dsc_0053.jpg\" alt=\"In High Sierras, Remnants of Ice Age Tell a Tale of Future Climate\" title=\"Photo of Baboon Lakes by David Funkhouser/Lamont-Doherty Earth Observatory. This valley was covered and carved by a massive glacier during the last Ice Age.\"  class=\"imagecache imagecache-gallery-thumb\" width=\"103\" height=\"59\" /></a></span><div class=\"photo-link\"><a href=\"http://www.ldeo.columbia.edu/news-events/high-sierras-remnants-ice-age-tell-tale-future-climate\">http://www.ldeo.columbia.edu/news-events/high-sierras-remnants-ice-age-tell-tale-future-climate</a></div><div class=\"description\"><p class=\"rteright\">\\r\\n'\n",
      "b'\\t<span style=\"font-size: 14px;\">In High Sierras, Remnants of Ice Age Tell a Tale of Future Climate</span><br />\\r\\n'\n",
      "b'\\t<a href=\"http://www.ldeo.columbia.edu/news-events/high-sierras-remnants-ice-age-tell-tale-future-climate\"><span style=\"letter-spacing: 3px; font-size: 12px;\">LAMONT-DOHERTY EARTH OBSERVATORY</span></a></p>\\r\\n'\n",
      "b'</div></div></div><div class=\"gallery-init\"><div class=\"gallery-thumb\"><span><a href=\"files/columbia/imagecache/gallery/gallery/zuckerman.figure_2-4.hp_.jpg\"><img src=\"files/columbia/imagecache/gallery-thumb/gallery/zuckerman.figure_2-4.hp_.jpg\" alt=\"Pinpointing a Genetic &#039;Switch&#039; That Offers Clues to Evolutionary Origins of Fine\" title=\"The researchers used fluorescent dye to identify specific genetic markers for digit-innervating motor neurons in - in this case - the developing foot. (Credit: Alana Mendelsohn/Jessell Lab/Columbia&#039;s Zuckerman Institute)\"  class=\"imagecache imagecache-gallery-thumb\" width=\"103\" height=\"59\" /></a></span><div class=\"photo-link\"><a href=\"http://zuckermaninstitute.columbia.edu/news/pinpointing-genetic-switch-offers-clues-evolutionary-origins-fine-motor-skills\">http://zuckermaninstitute.columbia.edu/news/pinpointing-genetic-switch-offers-clues-evolutionary-origins-fine-motor-skills</a></div><div class=\"description\"><p class=\"rteright\">\\r\\n'\n",
      "b'\\t<span style=\"font-size: 14px;\">Pinpointing a Genetic &#39;Switch&#39; That Offers Clues to Evolutionary Origins of Fine Motor Skills</span><br />\\r\\n'\n",
      "b'\\t<a href=\"http://zuckermaninstitute.columbia.edu/news/pinpointing-genetic-switch-offers-clues-evolutionary-origins-fine-motor-skills\"><span style=\"letter-spacing: 3px; font-size: 12px;\">ZUCKERMAN INSTITUTE</span></a></p>\\r\\n'\n",
      "b'</div></div></div><div class=\"gallery-init\"><div class=\"gallery-thumb\"><span><a href=\"files/columbia/imagecache/gallery/gallery/dsc_9684_1.jpg\"><img src=\"files/columbia/imagecache/gallery-thumb/gallery/dsc_9684_1.jpg\" alt=\"Bill Gates &amp; Business School Alum Warren Buffett Hold Town Meeting With Columbia\" title=\"Bill Gates &amp; Business School Alum Warren Buffett Hold Town Meeting With Columbia Students (Photo by Eileen Barroso)\"  class=\"imagecache imagecache-gallery-thumb\" width=\"103\" height=\"59\" /></a></span><div class=\"photo-link\"><a href=\"https://www.facebook.com/BillGates/videos/10154249999681961\">https://www.facebook.com/BillGates/videos/10154249999681961</a></div><div class=\"description\"><p class=\"rteright\">\\r\\n'\n",
      "b'\\t<span style=\"font-size: 14px;\">Bill Gates &amp; Business School Alum Warren Buffett Hold Town Meeting With Columbia Students</span><br />\\r\\n'\n",
      "b'\\t<a href=\"https://www.facebook.com/BillGates/videos/10154249999681961\"><span style=\"letter-spacing: 3px; font-size: 12px;\">ON CAMPUS</span></a></p>\\r\\n'\n",
      "b'</div></div></div><div class=\"gallery-init\"><div class=\"gallery-thumb\"><span><a href=\"files/columbia/imagecache/gallery/gallery/fencing.men_.2017.jpg\"><img src=\"files/columbia/imagecache/gallery-thumb/gallery/fencing.men_.2017.jpg\" alt=\"Men&#039;s Fencers Are Ivy League Champions for Fourth Straight Year\" title=\"Photo by Columbia Athletics/Mike McLaughlin\"  class=\"imagecache imagecache-gallery-thumb\" width=\"103\" height=\"59\" /></a></span><div class=\"photo-link\"><a href=\"http://www.gocolumbialions.com/ViewArticle.dbml?DB_OEM_ID=9600&amp;ATCLID=211471289\">http://www.gocolumbialions.com/ViewArticle.dbml?DB_OEM_ID=9600&amp;ATCLID=211471289</a></div><div class=\"description\"><p class=\"rteright\">\\r\\n'\n",
      "b'\\t<span style=\"font-size: 14px;\">Men&#39;s Fencers Are Ivy League Champions for Fourth Straight Year</span><br />\\r\\n'\n",
      "b'\\t<a href=\"http://www.gocolumbialions.com/ViewArticle.dbml?DB_OEM_ID=9600&amp;ATCLID=211471289\"><span style=\"letter-spacing: 3px; font-size: 12px;\">COLUMBIA ATHLETICS</span></a></p>\\r\\n'\n",
      "b'</div></div></div>  </div>\\n'\n",
      "b'\\n'\n",
      "b'  </div> <!-- /.node -->\\n'\n",
      "b'  \\n'\n",
      "b'                      \\n'\n",
      "b'          <div id=\"main-content-wrapper\" class=\"clearfix\">\\n'\n",
      "b'            <div id=\"main-content\"><div id=\"main-content-inner\"><div id=\"main-content-inner-inner\" class=\"clearfix\">\\n'\n",
      "b'                                            \\n'\n",
      "b'                    \\n'\n",
      "b'              <div id=\"content-area\" class=\"clearfix\">\\n'\n",
      "b'                <div id=\"node-1\" class=\"node node-type-special-page clearfix\">\\n'\n",
      "b'  \\n'\n",
      "b'  \\n'\n",
      "b'  <div class=\"content\">\\n'\n",
      "b'      </div>\\n'\n",
      "b'\\n'\n",
      "b'  </div> <!-- /.node -->\\n'\n",
      "b'              </div>\\n'\n",
      "b'      \\n'\n",
      "b'                            <div class=\"region region-content-bottom clearfix\">\\n'\n",
      "b'                <div id=\"block-views-nodequeue_1-block\" class=\"block block-views region-odd odd region-count-1 count-3 clearfix\">\\n'\n",
      "b'      <h2 class=\"title\"><a href=\"http://news.columbia.edu\">University News</a> <a href=\"http://news.columbia.edu/rss-how-to\" class=\"rss\">(rss)</a></h2>\\n'\n",
      "b'  \\n'\n",
      "b'  <div class=\"content clearfix\">\\n'\n",
      "b'    <div class=\"view view-nodequeue-1 view-id-nodequeue_1 view-display-id-block view-dom-id-1\">\\n'\n",
      "b'    \\n'\n",
      "b'  \\n'\n",
      "b'  \\n'\n",
      "b'      <div class=\"view-content clearfix\">\\n'\n",
      "b'      <div class=\"item-list\">\\n'\n",
      "b'    <ul>\\n'\n",
      "b'          <li class=\"views-row views-row-1 views-row-odd views-row-first\"><div id=\"node-21460\" class=\"node node-type-news node-promoted node-unpublished\">\\n'\n",
      "b'  \\n'\n",
      "b'      <a href=\"http://news.columbia.edu/refugeeamicusbrief\">Columbia Joins Amicus Brief Opposing Executive Order on Immigration and Refugees</a>  \\n'\n",
      "b'  </div> <!-- /.node --></li>\\n'\n",
      "b'          <li class=\"views-row views-row-2 views-row-even\"><div id=\"node-21317\" class=\"node node-type-news node-promoted node-unpublished\">\\n'\n",
      "b'  \\n'\n",
      "b'      <a href=\"http://news.columbia.edu/content/Social-Science-Research-Council-Names-Dean-Alondra-Nelson-as-Next-President\">Social Science Research Council Names Dean Alondra Nelson as Next President</a>  \\n'\n",
      "b'  </div> <!-- /.node --></li>\\n'\n",
      "b'          <li class=\"views-row views-row-3 views-row-odd\"><div id=\"node-21233\" class=\"node node-type-news node-promoted node-unpublished\">\\n'\n",
      "b'  \\n'\n",
      "b'      <a href=\"http://news.columbia.edu/content/5-Questions-Law-Prof-David-Pozen-on-Executive-Orders-Potential-for-Constitutional-Crisis\">5 Questions: Law Prof. David Pozen on Executive Orders, Potential for Constitutional Crisis</a>  \\n'\n",
      "b'  </div> <!-- /.node --></li>\\n'\n",
      "b'          <li class=\"views-row views-row-4 views-row-even views-row-last\"><div id=\"node-20241\" class=\"node node-type-news node-promoted node-unpublished\">\\n'\n",
      "b'  \\n'\n",
      "b'      <a href=\"http://news.columbia.edu/content/1566\">President Bollinger Joins 47 University Leaders Asking President Trump to &#039;Rectify or Rescind&#039; Immigration Order</a>  \\n'\n",
      "b'  </div> <!-- /.node --></li>\\n'\n",
      "b'      </ul>\\n'\n",
      "b'</div>    </div>\\n'\n",
      "b'  \\n'\n",
      "b'  \\n'\n",
      "b'  \\n'\n",
      "b'  \\n'\n",
      "b'  \\n'\n",
      "b'  \\n'\n",
      "b'</div>   </div>\\n'\n",
      "b'\\n'\n",
      "b'  </div> <!-- /.block -->\\n'\n",
      "b'<div id=\"block-block-3\" class=\"block block-block region-even even region-count-2 count-4 clearfix\">\\n'\n",
      "b'  \\n'\n",
      "b'  <div class=\"content clearfix\">\\n'\n",
      "b'    <div id=\"node-1004\" class=\"node node-type-page clearfix\">\\n'\n",
      "b'  \\n'\n",
      "b'  \\n'\n",
      "b'  <div class=\"content\">\\n'\n",
      "b'    <p>\\n'\n",
      "b'\\t<br />\\n'\n",
      "b'\\t<a href=\"https://communityservice.columbia.edu/\" target=\"_blank\"><img alt=\"Columbia Community Service\" src=\"files/columbia/content/button-ccs2.jpg\" style=\"width: 100px; height: 71px;\" /></a><br />\\n'\n",
      "b'\\t<br />\\n'\n",
      "b'\\t<a href=\"https://blackhistory.news.columbia.edu/\" target=\"_blank\"><span style=\"line-height: 15.996000289917px; font-size: 0.75em; margin-top: 0.5em; margin-bottom: 0.5em;\"><u><img alt=\"Columbia University Celebrates Black History\" src=\"files/columbia/content/black-history03.jpg\" style=\"border-width: 0px; border-style: solid; margin-top: 0.5em; margin-bottom: 15px; width: 100px; height: 71px;\" /></u></span></a></p>\\n'\n",
      "b'  </div>\\n'\n",
      "b'\\n'\n",
      "b'  </div> <!-- /.node -->\\n'\n",
      "b'  </div>\\n'\n",
      "b'\\n'\n",
      "b'  </div> <!-- /.block -->\\n'\n",
      "b'<div id=\"block-views-events_announcements-block_1\" class=\"block block-views region-odd odd region-count-3 count-5 clearfix\">\\n'\n",
      "b'      <h2 class=\"title\"><a href=\"https://events.columbia.edu\">Events &amp; Announcements</a> <a href=\"events/feed.xml\" class=\"rss\" title=\"RSS\">(rss)</a></h2>\\n'\n",
      "b'  \\n'\n",
      "b'  <div class=\"content clearfix\">\\n'\n",
      "b'    <div class=\"view view-events-announcements view-id-events_announcements view-display-id-block_1 view-dom-id-2\">\\n'\n",
      "b'    \\n'\n",
      "b'  \\n'\n",
      "b'  \\n'\n",
      "b'      <div class=\"view-content clearfix\">\\n'\n",
      "b'        <div class=\"views-row views-row-1 views-row-odd views-row-first\">\\n'\n",
      "b'    <h3>February</h3><div id=\"node-21666\" class=\"node node-type-event-announcement node-promoted\">\\n'\n",
      "b'  <div class=\"content clearfix\">\\n'\n",
      "b'      <div class=\"day\">20</div>\\n'\n",
      "b'      <div class=\"text\"><a href=\"http://heymancenter.org/events/an-evening-with-the-monochord-global-perspectives-in-music-math-and-history/\">Global Perspectives in Histories of Music Theory</a></div>\\n'\n",
      "b'  </div>\\n'\n",
      "b'  </div> <!-- /.node -->  </div>\\n'\n",
      "b'  <div class=\"views-row views-row-2 views-row-even\">\\n'\n",
      "b'    <div id=\"node-21667\" class=\"node node-type-event-announcement node-promoted\">\\n'\n",
      "b'  <div class=\"content clearfix day-hidden\">\\n'\n",
      "b'      <div class=\"text\"><a href=\"http://bit.ly/2lQfKZN\">Lecture | Procurement as a Sustainability Strategy</a></div>\\n'\n",
      "b'  </div>\\n'\n",
      "b'  </div> <!-- /.node -->  </div>\\n'\n",
      "b'  <div class=\"views-row views-row-3 views-row-odd views-row-last\">\\n'\n",
      "b'    <div id=\"node-21668\" class=\"node node-type-event-announcement node-promoted\">\\n'\n",
      "b'  <div class=\"content clearfix day-hidden\">\\n'\n",
      "b'      <div class=\"text\"><a href=\"http://bit.ly/2lmX2Zf\">Lecture | Dany Laferri\\xc3\\xa8re: \\'The Writer in Pajamas\\' [In French]</a></div>\\n'\n",
      "b'  </div>\\n'\n",
      "b'  </div> <!-- /.node -->  </div>\\n'\n",
      "b'    </div>\\n'\n",
      "b'  \\n'\n",
      "b'  \\n'\n",
      "b'  \\n'\n",
      "b'  \\n'\n",
      "b'  \\n'\n",
      "b'  \\n'\n",
      "b'</div>   </div>\\n'\n",
      "b'\\n'\n",
      "b'  </div> <!-- /.block -->\\n'\n",
      "b'              </div>\\n'\n",
      "b'                    \\n'\n",
      "b'                          </div></div></div> <!-- /#main-content-inner-inner, /#main-content-inner, /#main-content -->\\n'\n",
      "b'  \\n'\n",
      "b'                      </div> <!-- /#main-content-wrapper -->\\n'\n",
      "b'  \\n'\n",
      "b'        </div></div>\\n'\n",
      "b'      </div> <!-- /#content-inner-inner, /#content-inner, /#content -->\\n'\n",
      "b'\\n'\n",
      "b'      \\n'\n",
      "b'            <div class=\"region region-sidebar-first column sidebar\"><div class=\"section clearfix\">\\n'\n",
      "b'        <div id=\"block-menu_block-2\" class=\"block block-menu_block region-odd odd region-count-1 count-1 clearfix\">\\n'\n",
      "b'  \\n'\n",
      "b'  <div class=\"content clearfix\">\\n'\n",
      "b'    <div class=\"menu-block-2 menu-name-primary-links parent-mlid-0 menu-level-1\">\\n'\n",
      "b'  <ul class=\"menu\"><li class=\"expanded first menu-mlid-261\"><span><a href=\"content/about-columbia.html\">About</a></span><ul class=\"menu\"><li class=\"leaf first menu-mlid-262\"><span><a href=\"content/history.html\">History</a></span></li>\\n'\n",
      "b'<li class=\"leaf menu-mlid-490\"><span><a href=\"node/52.html\">Administration</a></span></li>\\n'\n",
      "b'<li class=\"leaf menu-mlid-491\"><span><a href=\"content/statistics-facts.html\">Statistics &amp; Facts</a></span></li>\\n'\n",
      "b'<li class=\"leaf last menu-mlid-1725\"><span><a href=\"node/6060.html\">Visiting</a></span></li>\\n'\n",
      "b'</ul></li>\\n'\n",
      "b'<li class=\"expanded menu-mlid-259\"><span><a href=\"node/4.html\">Admissions</a></span><ul class=\"menu\"><li class=\"leaf first menu-mlid-605\"><span><a href=\"content/schools.html\">Schools</a></span></li>\\n'\n",
      "b'<li class=\"leaf menu-mlid-603\"><span><a href=\"content/departments-and-divisions.html\">Departments</a></span></li>\\n'\n",
      "b'<li class=\"leaf menu-mlid-520\"><span><a href=\"http://www.columbia.edu/cu/sfs/index.html\">Financial Aid</a></span></li>\\n'\n",
      "b'<li class=\"leaf last menu-mlid-664\"><span><a href=\"node/1846.html\">Areas of Study</a></span></li>\\n'\n",
      "b'</ul></li>\\n'\n",
      "b'<li class=\"expanded menu-mlid-260\"><span><a href=\"content/academics.html\">Academics</a></span><ul class=\"menu\"><li class=\"leaf first menu-mlid-606\"><span><a href=\"content/schools-0.html\">Schools</a></span></li>\\n'\n",
      "b'<li class=\"leaf menu-mlid-604\"><span><a href=\"content/departments-and-divisions.html\">Departments</a></span></li>\\n'\n",
      "b'<li class=\"leaf menu-mlid-612\"><span><a href=\"content/centers-institutes.html\">Centers</a></span></li>\\n'\n",
      "b'<li class=\"leaf last menu-mlid-665\"><span><a href=\"node/1846.html\">Areas of Study</a></span></li>\\n'\n",
      "b'</ul></li>\\n'\n",
      "b'<li class=\"expanded menu-mlid-485\"><span><a href=\"content/research-columbia.html\">Research</a></span><ul class=\"menu\"><li class=\"leaf first menu-mlid-552\"><span><a href=\"http://news.columbia.edu/content-topics/research\">News</a></span></li>\\n'\n",
      "b'<li class=\"leaf menu-mlid-553\"><span><a href=\"http://evpr.columbia.edu/content/selected-resources\">Resources</a></span></li>\\n'\n",
      "b'<li class=\"leaf last menu-mlid-611\"><span><a href=\"content/centers-institutes.html\">Centers</a></span></li>\\n'\n",
      "b'</ul></li>\\n'\n",
      "b'<li class=\"expanded menu-mlid-486\"><span><a href=\"http://library.columbia.edu/index.html\">Libraries</a></span><ul class=\"menu\"><li class=\"leaf first menu-mlid-615\"><span><a href=\"http://library.columbia.edu/locations.html\">Locations</a></span></li>\\n'\n",
      "b'<li class=\"leaf menu-mlid-617\"><span><a href=\"http://library.columbia.edu/find/eresources.html\">E-Resources</a></span></li>\\n'\n",
      "b'<li class=\"leaf menu-mlid-2314\"><span><a href=\"http://library.columbia.edu/find.html\">Find</a></span></li>\\n'\n",
      "b'<li class=\"leaf menu-mlid-618\"><span><a href=\"http://library.columbia.edu/find/request.html\">Request Items &amp; Services</a></span></li>\\n'\n",
      "b'<li class=\"leaf last menu-mlid-619\"><span><a href=\"http://library.columbia.edu/research/askalibrarian.html\">Ask a Librarian</a></span></li>\\n'\n",
      "b'</ul></li>\\n'\n",
      "b'<li class=\"expanded menu-mlid-487\"><span><a href=\"http://www.cumc.columbia.edu/\">Medical Center</a></span><ul class=\"menu\"><li class=\"leaf first menu-mlid-494\"><span><a href=\"http://cumc.columbia.edu/research\">Research</a></span></li>\\n'\n",
      "b'<li class=\"leaf menu-mlid-495\"><span><a href=\"http://cumc.columbia.edu/education\">Education</a></span></li>\\n'\n",
      "b'<li class=\"leaf menu-mlid-496\"><span><a href=\"http://cumc.columbia.edu/patient-care\">Patient Care</a></span></li>\\n'\n",
      "b'<li class=\"leaf last menu-mlid-2200\"><span><a href=\"http://newsroom.cumc.columbia.edu/\">Newsroom</a></span></li>\\n'\n",
      "b'</ul></li>\\n'\n",
      "b'<li class=\"expanded menu-mlid-489\"><span><a href=\"http://giving.columbia.edu/\">Giving</a></span><ul class=\"menu\"><li class=\"leaf first menu-mlid-625\"><span><a href=\"http://campaignimpact.columbia.edu/\">Impact</a></span></li>\\n'\n",
      "b'<li class=\"leaf menu-mlid-624\"><span><a href=\"https://giving.columbia.edu/giftguide/schoolprograms\">Gift Guide</a></span></li>\\n'\n",
      "b'<li class=\"leaf menu-mlid-622\"><span><a href=\"http://giving.columbia.edu/waystogive\">Ways to Give</a></span></li>\\n'\n",
      "b'<li class=\"leaf last menu-mlid-623\"><span><a href=\"https://giving.columbia.edu/giveonline/\" target=\"_blank\">Give Online</a></span></li>\\n'\n",
      "b'</ul></li>\\n'\n",
      "b'<li class=\"leaf menu-mlid-585\"><span><a href=\"content/arts-at-columbia.html\">Arts</a></span></li>\\n'\n",
      "b'<li class=\"leaf menu-mlid-586\"><span><a href=\"http://www.gocolumbialions.com/\">Athletics</a></span></li>\\n'\n",
      "b'<li class=\"leaf last menu-mlid-1200\"><span><a href=\"http://beta.global.columbia.edu/\">Columbia Global</a></span></li>\\n'\n",
      "b'</ul></div>\\n'\n",
      "b'  </div>\\n'\n",
      "b'\\n'\n",
      "b'  </div> <!-- /.block -->\\n'\n",
      "b'<div id=\"block-menu_block-3\" class=\"block block-menu_block region-even even region-count-2 count-2 clearfix\">\\n'\n",
      "b'      <h2 class=\"title\">Resources <em>for</em></h2>\\n'\n",
      "b'  \\n'\n",
      "b'  <div class=\"content clearfix\">\\n'\n",
      "b'    <div class=\"menu-block-3 menu-name-menu-resources parent-mlid-0 menu-level-1\">\\n'\n",
      "b'  <ul class=\"menu\"><li class=\"leaf first menu-mlid-554\"><span><a href=\"content/students.html\">Students</a></span></li>\\n'\n",
      "b'<li class=\"leaf menu-mlid-529\"><span><a href=\"content/faculty-staff.html\">Faculty &amp; Staff</a></span></li>\\n'\n",
      "b'<li class=\"expanded menu-mlid-540\"><span><a href=\"http://alumni.columbia.edu/\">Alumni</a></span><ul class=\"menu\"><li class=\"leaf first menu-mlid-545\"><span><a href=\"http://alumni.columbia.edu/get-involved\">CAA</a></span></li>\\n'\n",
      "b'<li class=\"leaf menu-mlid-542\"><span><a href=\"http://alumni.columbia.edu/alumni-community\">Community</a></span></li>\\n'\n",
      "b'<li class=\"leaf menu-mlid-543\"><span><a href=\"http://alumni.columbia.edu/career-connections\">Careers</a></span></li>\\n'\n",
      "b'<li class=\"leaf menu-mlid-544\"><span><a href=\"http://alumni.columbia.edu/alumni-community/alumni-events-calendar\">Events</a></span></li>\\n'\n",
      "b'<li class=\"leaf menu-mlid-2318\"><span><a href=\"http://alumni.columbia.edu/alumni-community/alumni-clubs\">Clubs</a></span></li>\\n'\n",
      "b'<li class=\"leaf last menu-mlid-546\"><span><a href=\"http://alumni.columbia.edu/email\">Email</a></span></li>\\n'\n",
      "b'</ul></li>\\n'\n",
      "b'<li class=\"leaf menu-mlid-539\"><span><a href=\"http://gca.columbia.edu/\">Neighbors</a></span></li>\\n'\n",
      "b'<li class=\"leaf last menu-mlid-2267\"><span><a href=\"http://manhattanville.columbia.edu/\">Manhattanville</a></span></li>\\n'\n",
      "b'</ul></div>\\n'\n",
      "b'  </div>\\n'\n",
      "b'\\n'\n",
      "b'  </div> <!-- /.block -->\\n'\n",
      "b'      </div></div>\\n'\n",
      "b'      \\n'\n",
      "b'    </div></div> <!-- /#main, /#main-wrapper -->\\n'\n",
      "b'\\n'\n",
      "b'          <div id=\"footer\"><div class=\"section\">\\n'\n",
      "b'\\n'\n",
      "b'        \\n'\n",
      "b'        \\n'\n",
      "b'        \\n'\n",
      "b'  <div class=\"clearfix\">\\n'\n",
      "b'    <div id=\"node-32\" class=\"node node-type-special-page clearfix\">\\n'\n",
      "b'  \\n'\n",
      "b'  \\n'\n",
      "b'  <div class=\"content\">\\n'\n",
      "b'    <div>\\n'\n",
      "b'\\t116th Street and Broadway, New York, NY 10027<br />\\n'\n",
      "b'\\t<a href=\"content/copyright.html\" style=\"color: #8F8F8F\">&copy; 2017 Columbia University</a></div>\\n'\n",
      "b'  </div>\\n'\n",
      "b'\\n'\n",
      "b'  </div> <!-- /.node -->\\n'\n",
      "b'<div id=\"block-menu-menu-bottom-menu\" class=\"block block-menu region-odd even region-count-1 count-6 clearfix\">\\n'\n",
      "b'  \\n'\n",
      "b'  <div class=\"content clearfix\">\\n'\n",
      "b'    <ul class=\"menu\"><li class=\"leaf first\"><span><a href=\"content/contact-us.html\">Contact</a></span></li>\\n'\n",
      "b'<li class=\"leaf\"><span><a href=\"http://cuit.columbia.edu\">Computing</a></span></li>\\n'\n",
      "b'<li class=\"leaf\"><span><a href=\"node/126.html\">Employment</a></span></li>\\n'\n",
      "b'<li class=\"leaf\"><span><a href=\"node/6060.html\">Visiting</a></span></li>\\n'\n",
      "b'<li class=\"leaf\"><span><a href=\"content/statement-public-access-accommodation.html\" class=\"accessibility\">Accessibility</a></span></li>\\n'\n",
      "b'<li class=\"leaf last\"><span><a href=\"http://eoaa.columbia.edu/notice-nondiscrimination\">Nondiscrimination</a></span></li>\\n'\n",
      "b'</ul>  </div>\\n'\n",
      "b'\\n'\n",
      "b'  </div> <!-- /.block -->\\n'\n",
      "b'<div id=\"block-menu_block-1\" class=\"block block-menu_block region-even odd region-count-2 count-7 clearfix\">\\n'\n",
      "b'  \\n'\n",
      "b'  <div class=\"content clearfix\">\\n'\n",
      "b'    <div class=\"menu-block-1 menu-name-menu-top-menu parent-mlid-0 menu-level-1\">\\n'\n",
      "b'  <ul class=\"menu\"><li class=\"expanded first menu-mlid-237\"><span><a href=\"http://lionmail.columbia.edu\">Email</a></span><ul class=\"menu\"><li class=\"leaf first menu-mlid-2141\"><span><a href=\"http://lionmail.columbia.edu\">LionMail</a></span></li>\\n'\n",
      "b'<li class=\"leaf menu-mlid-559\"><span><a href=\"https://outlook1.cuit.columbia.edu\">CUIT Outlook Web Access</a></span></li>\\n'\n",
      "b'<li class=\"leaf menu-mlid-2196\"><span><a href=\"https://mail.cumc.columbia.edu/owa\">CUMC Outlook Web Access</a></span></li>\\n'\n",
      "b'<li class=\"leaf last menu-mlid-562\"><span><a href=\"http://uni.columbia.edu\" class=\"separator\">Manage My UNI</a></span></li>\\n'\n",
      "b'</ul></li>\\n'\n",
      "b'<li class=\"expanded menu-mlid-238 active active-trail\"><span><a href=\"index.html\" class=\"active-trail active\">Quick Links</a></span><ul class=\"menu\"><li class=\"leaf first menu-mlid-638\"><span><a href=\"http://registrar.columbia.edu/academic-calendar/\">Academic Calendar</a></span></li>\\n'\n",
      "b'<li class=\"leaf menu-mlid-644\"><span><a href=\"http://columbia.bncollege.com/webapp/wcs/stores/servlet/BNCBHomePage?storeId=10053&amp;catalogId=10001\">Bookstore</a></span></li>\\n'\n",
      "b'<li class=\"leaf menu-mlid-1206\"><span><a href=\"http://news.columbia.edu/\">Columbia News</a></span></li>\\n'\n",
      "b'<li class=\"leaf menu-mlid-1570\"><span><a href=\"https://commencement.columbia.edu/\" target=\"_blank\">Commencement</a></span></li>\\n'\n",
      "b'<li class=\"leaf menu-mlid-646\"><span><a href=\"https://courseworks.columbia.edu/\">CourseWorks</a></span></li>\\n'\n",
      "b'<li class=\"leaf menu-mlid-647\"><span><a href=\"http://www.columbia.edu/cu/bulletin/uwb/\">Directory of Classes</a></span></li>\\n'\n",
      "b'<li class=\"leaf menu-mlid-639\"><span><a href=\"http://www.environment.columbia.edu/\">Environmental Sustainability</a></span></li>\\n'\n",
      "b'<li class=\"leaf menu-mlid-641\"><span><a href=\"events/today.html\">Events Calendar</a></span></li>\\n'\n",
      "b'<li class=\"leaf menu-mlid-640\"><span><a href=\"http://www.columbia.edu/cu/sfs/\">Financial Aid</a></span></li>\\n'\n",
      "b'<li class=\"leaf menu-mlid-645\"><span><a href=\"http://hr.columbia.edu/\">Human Resources</a></span></li>\\n'\n",
      "b'<li class=\"leaf menu-mlid-1571\"><span><a href=\"http://www.columbia.edu/cgi-bin/cul/resolve?lweb0157\">Library Hours</a></span></li>\\n'\n",
      "b'<li class=\"leaf menu-mlid-648\"><span><a href=\"node/4599.html\">Maps</a></span></li>\\n'\n",
      "b'<li class=\"leaf menu-mlid-650\"><span><a href=\"http://publicsafety.columbia.edu\">Public Safety</a></span></li>\\n'\n",
      "b'<li class=\"leaf menu-mlid-2265\"><span><a href=\"http://sexualrespect.columbia.edu\">Sexual Respect</a></span></li>\\n'\n",
      "b'<li class=\"leaf menu-mlid-590\"><span><a href=\"node/136.html\">Student Organizations</a></span></li>\\n'\n",
      "b'<li class=\"leaf last menu-mlid-2236\"><span><a href=\"http://transportation.columbia.edu\">Transportation</a></span></li>\\n'\n",
      "b'</ul></li>\\n'\n",
      "b'<li class=\"expanded menu-mlid-239 active\"><span><a href=\"index.html\" class=\"active\">Main Menu</a></span><ul class=\"menu\"><li class=\"leaf first menu-mlid-497\"><span><a href=\"content/about-columbia.html\">About</a></span></li>\\n'\n",
      "b'<li class=\"leaf menu-mlid-498\"><span><a href=\"node/4.html\">Admissions</a></span></li>\\n'\n",
      "b'<li class=\"leaf menu-mlid-499\"><span><a href=\"content/academics.html\">Academics</a></span></li>\\n'\n",
      "b'<li class=\"leaf menu-mlid-500\"><span><a href=\"content/research-columbia.html\">Research</a></span></li>\\n'\n",
      "b'<li class=\"leaf menu-mlid-501\"><span><a href=\"http://www.columbia.edu/cu/lweb/\">Libraries</a></span></li>\\n'\n",
      "b'<li class=\"leaf last menu-mlid-502\"><span><a href=\"http://www.cumc.columbia.edu/\">Medical Center</a></span></li>\\n'\n",
      "b'</ul></li>\\n'\n",
      "b'<li class=\"leaf last menu-mlid-587\"><span><a href=\"content/az-index.html\">A-Z Index</a></span></li>\\n'\n",
      "b'</ul></div>\\n'\n",
      "b'  </div>\\n'\n",
      "b'\\n'\n",
      "b'  </div> <!-- /.block -->\\n'\n",
      "b'\\n'\n",
      "b'    <form id=\"cu-search\" action=\"http://search.sites.columbia.edu/pages\" method=\"get\"><div class=\"wrapper\"><div class=\"wrapper-inner\">  \\n'\n",
      "b'      <label class=\"searchbox\" for=\"cu-search-box\">Search for people, departments &amp; websites</label>\\n'\n",
      "b'      <input id=\"cu-search-box\" type=\"text\" maxlength=\"2033\" value=\"\" name=\"q\" />\\n'\n",
      "b'      <button id=\"cu-search-submit\" type=\"submit\">Submit</button>\\n'\n",
      "b'    </div></div></form>\\n'\n",
      "b'    \\n'\n",
      "b'    <ul id=\"service-links\">\\n'\n",
      "b'      <li class=\"facebook\"><a href=\"http://www.facebook.com/columbia\">Facebook</a></li>\\n'\n",
      "b'      <li class=\"twitter\"><a href=\"http://www.twitter.com/columbia\">Twitter</a></li>\\n'\n",
      "b'      <li class=\"instagram\"><a href=\"http://www.instagram.com/columbia\">Instagram</a></li>\\n'\n",
      "b'      <li class=\"youtube\"><a href=\"http://www.youtube.com/ColumbiaUniversity\">YouTube</a></li>\\n'\n",
      "b'    </ul>\\n'\n",
      "b'  </div>\\n'\n",
      "b'      </div></div> <!-- /.section, /#footer -->\\n'\n",
      "b'    \\n'\n",
      "b'  </div></div></div> <!-- /#page, /#page-wrapper, /#container -->\\n'\n",
      "b'\\n'\n",
      "b'  \\n'\n",
      "b'  <script type=\"text/javascript\">\\n'\n",
      "b'<!--//--><![CDATA[//><!--\\n'\n",
      "b'var _gaq = _gaq || [];_gaq.push([\"_setAccount\", \"UA-18290390-1\"]);var pluginUrl =\\r\\n'\n",
      "b\" '//www.google-analytics.com/plugins/ga/inpage_linkid.js';\\r\\n\"\n",
      "b\"_gaq.push(['_require', 'inpage_linkid', pluginUrl]);\\r\\n\"\n",
      "b'_gaq.push([\\'_setDomainName\\', \\'columbia.edu\\']);_gaq.push([\"_trackPageview\"]);(function() {var ga = document.createElement(\"script\");ga.type = \"text/javascript\";ga.async = true;ga.src = (\"https:\" == document.location.protocol ? \"https://ssl\" : \"http://www\") + \".google-analytics.com/ga.js\";var s = document.getElementsByTagName(\"script\")[0];s.parentNode.insertBefore(ga, s);})();\\n'\n",
      "b'//--><!]]>\\n'\n",
      "b'</script>\\n'\n",
      "b'<script type=\"text/javascript\">\\n'\n",
      "b'<!--//--><![CDATA[//><!--\\n'\n",
      "b'jQuery.extend(Drupal.settings, { \"CToolsAJAX\": { \"scripts\": { \"/sites/all/modules/contrib/jquery_update/replace/jquery-1.4.2.min.js?n\": true, \"/misc/drupal.js?n\": true, \"/sites/all/modules/ias/wind/wind.js?n\": true, \"/sites/all/modules/contrib/google_analytics/googleanalytics.js?n\": true, \"/sites/all/library/contrib/jquery.preloader.js?n\": true, \"/sites/all/library/contrib/cufon/cufon-yui.js?n\": true, \"/sites/all/library/contrib/cufon/Trajan_Pro_400.font.js?n\": true, \"/sites/all/library/contrib/jquery.hoverIntent.minified.js?n\": true, \"/sites/all/modules/contrib/simplemenu/superfish-1.4.8.js?n\": true, \"/sites/all/modules/ias/cuheader/tpl/cusearch/jquery-ui-1.8.4.custom/js/jquery-ui-1.8.4.custom.min.js?n\": true, \"/sites/all/library/contrib/colorbox/jquery.colorbox-min.js?n\": true }, \"css\": { \"/modules/node/node.css?n\": true, \"/modules/system/defaults.css?n\": true, \"/modules/system/system.css?n\": true, \"/modules/system/system-menus.css?n\": true, \"/modules/user/user.css?n\": true, \"/sites/all/modules/contrib/cck/theme/content-module.css?n\": true, \"/sites/all/modules/contrib/ckeditor/ckeditor.css?n\": true, \"/sites/all/modules/contrib/ctools/css/ctools.css?n\": true, \"/sites/all/modules/contrib/date/date.css?n\": true, \"/sites/all/modules/contrib/date/date_popup/themes/datepicker.css?n\": true, \"/sites/all/modules/contrib/date/date_popup/themes/jquery.timeentry.css?n\": true, \"/sites/all/modules/contrib/filefield/filefield.css?n\": true, \"/sites/all/modules/contrib/taxonomy_delegate/taxonomy_delegate.css?n\": true, \"/sites/all/modules/contrib/cck/modules/fieldgroup/fieldgroup.css?n\": true, \"/sites/all/modules/contrib/views/css/views.css?n\": true, \"/sites/all/themes/base/columbia2/columbia2-theme.css?n\": true, \"/sites/all/themes/ias/cu2/theme.css?n\": true, \"/sites/all/themes/base/columbia2/columbia2-print.css?n\": true } } });\\n'\n",
      "b'//--><!]]>\\n'\n",
      "b'</script>\\n'\n",
      "b'\\n'\n",
      "b'  <iframe src=\"http://webservices.lamp.columbia.edu/cu_scripts/hiddeniframe.html\" width=\"0\" height=\"0\" id=\"LAMP\" name=\"LAMP\"><br /></iframe>\\n'\n",
      "b'\\n'\n",
      "b'  <!-- Hotjar Tracking Code for www.columbia.edu -->\\n'\n",
      "b'  <script>\\n'\n",
      "b'      (function(h,o,t,j,a,r){\\n'\n",
      "b'          h.hj=h.hj||function(){(h.hj.q=h.hj.q||[]).push(arguments)};\\n'\n",
      "b'          h._hjSettings={hjid:333714,hjsv:5};\\n'\n",
      "b\"          a=o.getElementsByTagName('head')[0];\\n\"\n",
      "b\"          r=o.createElement('script');r.async=1;\\n\"\n",
      "b'          r.src=t+h._hjSettings.hjid+j+h._hjSettings.hjsv;\\n'\n",
      "b'          a.appendChild(r);\\n'\n",
      "b\"      })(window,document,'//static.hotjar.com/c/hotjar-','.js?sv=');\\n\"\n",
      "b'  </script>\\n'\n",
      "b'\\n'\n",
      "b'  <!--[if lt IE 7]>\\n'\n",
      "b'  <script type=\"text/javascript\">\\tvar IE6UPDATE_OPTIONS = {\\ticons_path: \"http://webservices.lamp.columbia.edu/cu2/sites/all/library/contrib/ie6update/images/\" }\\t</script><script type=\"text/javascript\" src=\"http://webservices.lamp.columbia.edu/cu2/sites/all/library/contrib/ie6update/ie6update.js\"></script>\\n'\n",
      "b'  <![endif]-->\\n'\n",
      "b'</body>\\n'\n",
      "b'</html>'\n"
     ]
    }
   ],
   "source": [
    "# or read lines with a for loop\n",
    "\n",
    "cur = urllib.request.urlopen(cu)\n",
    "\n",
    "for line in cur:\n",
    "    print(line)\n"
   ]
  },
  {
   "cell_type": "code",
   "execution_count": 8,
   "metadata": {
    "collapsed": false
   },
   "outputs": [
    {
     "data": {
      "text/plain": [
       "'<meta name=\"viewport\" content=\"maximum-scale=1.0, user-scalable=yes\" />\\n'"
      ]
     },
     "execution_count": 8,
     "metadata": {},
     "output_type": "execute_result"
    }
   ],
   "source": [
    "# ...to get python unicode strings, must decode byte stream\n",
    "# web sites written in English mostly use utf-8 because it is efficient\n",
    "\n",
    "lines[10].decode('utf-8')"
   ]
  },
  {
   "cell_type": "markdown",
   "metadata": {},
   "source": [
    "# requests\n",
    "- alternative to urllib\n",
    "- may be easier for complex tasks\n",
    "- [doc](http://docs.python-requests.org/en/master/user/quickstart/#response-content)"
   ]
  },
  {
   "cell_type": "code",
   "execution_count": 9,
   "metadata": {
    "collapsed": false
   },
   "outputs": [
    {
     "name": "stdout",
     "output_type": "stream",
     "text": [
      "200\n",
      "{'Server': 'Apache', 'Accept-Ranges': 'bytes', 'Vary': 'Accept-Encoding,User-Agent', 'Content-Type': 'text/html', 'Set-Cookie': 'BIGipServer~CUIT~www.columbia.edu-80-pool=1311259520.20480.0000; expires=Sun, 19-Feb-2017 07:49:47 GMT; path=/', 'Content-Length': '7751', 'Keep-Alive': 'timeout=15, max=58', 'Connection': 'Keep-Alive', 'Date': 'Sun, 19 Feb 2017 01:49:47 GMT', 'Content-Encoding': 'gzip'}\n",
      "ISO-8859-1\n"
     ]
    },
    {
     "data": {
      "text/plain": [
       "['<link rel=\"shortcut icon\" href=\"sites/all/themes/base/columbia2/images/favicon-crown.png\" type=\"image/x-icon\" />',\n",
       " '<script type=\"text/javascript\" src=\"sites/all/modules/ias/mdetect/mdetect.js\"></script>',\n",
       " '<meta name=\"viewport\" content=\"maximum-scale=1.0, user-scalable=yes\" />',\n",
       " '<link type=\"text/css\" rel=\"stylesheet\" media=\"all\" href=\"modules/node/node.css\" />',\n",
       " '<link type=\"text/css\" rel=\"stylesheet\" media=\"all\" href=\"modules/system/defaults.css\" />',\n",
       " '<link type=\"text/css\" rel=\"stylesheet\" media=\"all\" href=\"modules/system/system.css\" />',\n",
       " '<link type=\"text/css\" rel=\"stylesheet\" media=\"all\" href=\"modules/system/system-menus.css\" />',\n",
       " '<link type=\"text/css\" rel=\"stylesheet\" media=\"all\" href=\"modules/user/user.css\" />',\n",
       " '<link type=\"text/css\" rel=\"stylesheet\" media=\"all\" href=\"sites/all/modules/contrib/cck/theme/content-module.css\" />',\n",
       " '<link type=\"text/css\" rel=\"stylesheet\" media=\"all\" href=\"sites/all/modules/contrib/ckeditor/ckeditor.css\" />']"
      ]
     },
     "execution_count": 9,
     "metadata": {},
     "output_type": "execute_result"
    }
   ],
   "source": [
    "import requests\n",
    "\n",
    "r = requests.get(cu)\n",
    "print(r.status_code)\n",
    "print(r.headers)\n",
    "\n",
    "# requests tries to guess the charset and convert to unicode for you\n",
    "# but - got it wrong here\n",
    "print(r.encoding)\n",
    "# so fix it\n",
    "r.encoding = 'utf-8'\n",
    "\n",
    "# r.text is one string - split it into lines\n",
    "lines = r.text.split('\\n')\n",
    "lines[10:20]\n"
   ]
  },
  {
   "cell_type": "code",
   "execution_count": null,
   "metadata": {
    "collapsed": false
   },
   "outputs": [
    {
     "data": {
      "text/plain": [
       "str"
      ]
     },
     "execution_count": 10,
     "metadata": {},
     "output_type": "execute_result"
    }
   ],
   "source": [
    "type(r.text)"
   ]
  },
  {
   "cell_type": "markdown",
   "metadata": {},
   "source": [
    "# Easy to make a simple web server"
   ]
  },
  {
   "cell_type": "code",
   "execution_count": null,
   "metadata": {
    "collapsed": false
   },
   "outputs": [
    {
     "name": "stdout",
     "output_type": "stream",
     "text": [
      "serving at port 8001\n"
     ]
    }
   ],
   "source": [
    "# will serve files in the current directory\n",
    "\n",
    "import http.server\n",
    "import socketserver\n",
    "\n",
    "PORT = 8001\n",
    "\n",
    "Handler = http.server.SimpleHTTPRequestHandler\n",
    "\n",
    "httpd = socketserver.TCPServer((\"\", PORT), Handler)\n",
    "\n",
    "print(\"serving at port\", PORT)\n",
    "httpd.serve_forever()"
   ]
  },
  {
   "cell_type": "markdown",
   "metadata": {},
   "source": [
    "# 'Real' python web servers\n",
    "- two main ones are Flask and Django\n",
    "- Django [doc](https://www.djangoproject.com)\n",
    "- Flask [doc](http://flask.pocoo.org)"
   ]
  }
 ],
 "metadata": {
  "anaconda-cloud": {},
  "kernelspec": {
   "display_name": "Python [conda root]",
   "language": "python",
   "name": "conda-root-py"
  },
  "language_info": {
   "codemirror_mode": {
    "name": "ipython",
    "version": 3
   },
   "file_extension": ".py",
   "mimetype": "text/x-python",
   "name": "python",
   "nbconvert_exporter": "python",
   "pygments_lexer": "ipython3",
   "version": "3.5.2"
  }
 },
 "nbformat": 4,
 "nbformat_minor": 0
}
