{
 "cells": [
  {
   "cell_type": "markdown",
   "metadata": {},
   "source": [
    "# BeautifulSoup\n",
    "- great 'screen scraping' package\n",
    "- tons of interesting data on webpages designed for people, not programs\n",
    "- makes it easy to extract information from complex web pages and XML documents\n",
    "- often can figure out what to do by playing interactively\n",
    "- [doc](http://www.crummy.com/software/BeautifulSoup/)"
   ]
  },
  {
   "cell_type": "markdown",
   "metadata": {},
   "source": [
    "# Example\n",
    "# Want to find all the headlines on the front page of the [New York Times](http://nyt.com)\n",
    "- look at webpage source - html structure is quite complex\n",
    "- would be very difficult using with string.find() or regular expressions\n",
    "- soup reads in the page of interest, then you can query it"
   ]
  },
  {
   "cell_type": "code",
   "execution_count": 1,
   "metadata": {
    "collapsed": false
   },
   "outputs": [],
   "source": [
    "# 'lxml' is a XML parser(parses HTML too)\n",
    "# must tell soup what unicode decoding to use\n",
    "\n",
    "import urllib.request\n",
    "\n",
    "from bs4 import BeautifulSoup\n",
    "import lxml\n",
    "\n",
    "nf2 = urllib.request.urlopen('http://nyt.com')\n",
    "sp = BeautifulSoup(nf2, 'lxml', from_encoding='utf-8')"
   ]
  },
  {
   "cell_type": "code",
   "execution_count": 2,
   "metadata": {
    "collapsed": false
   },
   "outputs": [
    {
     "data": {
      "text/plain": [
       "[<h2 class=\"story-heading\"><a href=\"https://www.nytimes.com/2017/02/17/arts/design/friends-no-more-jorge-perez-and-donald-trump.html\">Friends No More? Jorge Pérez and Donald Trump</a></h2>,\n",
       " <h2 class=\"story-heading\"><a href=\"https://www.nytimes.com/2017/02/18/us/politics/trump-candidates-national-security-adviser.html\">Trump to Interview 4 Candidates for Security Adviser</a></h2>,\n",
       " <h2 class=\"story-heading\"><a href=\"https://www.nytimes.com/2017/02/18/us/a-trump-ally-in-congress-warns-his-state-california-to-make-nice.html\">Trump Ally in Congress Warns California to Make Nice</a></h2>,\n",
       " <h2 class=\"story-heading\"><i class=\"icon\"></i><a href=\"https://www.nytimes.com/2017/02/17/world/europe/trump-europe.html\">President’s Aides Try to Reassure Europe, but Many Are Wary</a> </h2>,\n",
       " <h2 class=\"story-heading\"><a href=\"https://www.nytimes.com/2017/02/18/us/california-storms.html\">Southern California Reels From Floods After Heavy Rains</a></h2>,\n",
       " <h2 class=\"story-heading\"><a href=\"https://www.nytimes.com/2017/02/18/world/asia/north-korea-china-coal-imports-suspended.html\">China Suspends All Coal Imports From North Korea</a></h2>,\n",
       " <h2 class=\"story-heading\"><i class=\"icon\"></i><a href=\"https://www.nytimes.com/2017/02/17/world/asia/north-korea-nuclear-threat.html\">How the Nuclear Threat From North Korea Has Grown</a> </h2>,\n",
       " <h2 class=\"story-heading\"><a href=\"https://www.nytimes.com/2017/02/18/business/energy-environment/nuclear-power-westinghouse-toshiba.html\">The Murky Future of Nuclear Power in the United States</a></h2>,\n",
       " <h2 class=\"story-heading\"><a href=\"https://www.nytimes.com/2017/02/17/world/africa/democratic-republic-congo-massacre-video-.html\">‘They Are Dying’: Video Seems to Show Massacre in Congo</a></h2>,\n",
       " <h2 class=\"story-heading\"><a href=\"https://www.nytimes.com/2017/02/18/world/europe/greece-bailout-black-market.html\">Greeks Turn to Black Market as Bailout Showdown Looms</a></h2>]"
      ]
     },
     "execution_count": 2,
     "metadata": {},
     "output_type": "execute_result"
    }
   ],
   "source": [
    "# headlines seem to be contained in 'h2' elements\n",
    "\n",
    "sp.findAll('h2')[10:20]"
   ]
  },
  {
   "cell_type": "code",
   "execution_count": 3,
   "metadata": {
    "collapsed": false
   },
   "outputs": [
    {
     "data": {
      "text/plain": [
       "<h2 class=\"branding\"><a href=\"http://www.nytimes.com/\">\n",
       "<svg aria-label=\"The New York Times\" class=\"nyt-logo\" height=\"64\" role=\"img\" width=\"379\">\n",
       "<image alt=\"The New York Times\" border=\"0\" height=\"64\" src=\"https://a1.nyt.com/assets/homepage/20170201-155716/images/foundation/logos/nyt-logo-379x64.png\" width=\"379\" xlink:href=\"https://a1.nyt.com/assets/homepage/20170201-155716/images/foundation/logos/nyt-logo-379x64.svg\"></image>\n",
       "</svg>\n",
       "</a></h2>"
      ]
     },
     "execution_count": 3,
     "metadata": {},
     "output_type": "execute_result"
    }
   ],
   "source": [
    "# first 'h2' element\n",
    "\n",
    "h2 = sp.h2\n",
    "h2"
   ]
  },
  {
   "cell_type": "code",
   "execution_count": 4,
   "metadata": {
    "collapsed": false
   },
   "outputs": [
    {
     "data": {
      "text/plain": [
       "<a href=\"http://www.nytimes.com/\">\n",
       "<svg aria-label=\"The New York Times\" class=\"nyt-logo\" height=\"64\" role=\"img\" width=\"379\">\n",
       "<image alt=\"The New York Times\" border=\"0\" height=\"64\" src=\"https://a1.nyt.com/assets/homepage/20170201-155716/images/foundation/logos/nyt-logo-379x64.png\" width=\"379\" xlink:href=\"https://a1.nyt.com/assets/homepage/20170201-155716/images/foundation/logos/nyt-logo-379x64.svg\"></image>\n",
       "</svg>\n",
       "</a>"
      ]
     },
     "execution_count": 4,
     "metadata": {},
     "output_type": "execute_result"
    }
   ],
   "source": [
    "# can pull 'a' element out of 'h2'\n",
    "# this 'a' element is a picture\n",
    "\n",
    "a=h2.find('a')\n",
    "a"
   ]
  },
  {
   "cell_type": "code",
   "execution_count": 5,
   "metadata": {
    "collapsed": false
   },
   "outputs": [
    {
     "data": {
      "text/plain": [
       "[<a href=\"http://www.nytimes.com/\">\n",
       " <svg aria-label=\"The New York Times\" class=\"nyt-logo\" height=\"64\" role=\"img\" width=\"379\">\n",
       " <image alt=\"The New York Times\" border=\"0\" height=\"64\" src=\"https://a1.nyt.com/assets/homepage/20170201-155716/images/foundation/logos/nyt-logo-379x64.png\" width=\"379\" xlink:href=\"https://a1.nyt.com/assets/homepage/20170201-155716/images/foundation/logos/nyt-logo-379x64.svg\"></image>\n",
       " </svg>\n",
       " </a>,\n",
       " None,\n",
       " None,\n",
       " None,\n",
       " None,\n",
       " None,\n",
       " <a href=\"https://www.nytimes.com/2017/02/18/us/politics/trump-candidates-top-posts.html\">Struggling to Fill Jobs When Total Loyalty Is a Must</a>,\n",
       " <a href=\"https://www.nytimes.com/2017/02/17/us/politics/trump-program-eliminations-white-house-budget-office.html\">Trump Budget Hit List Has Programs Long in G.O.P. Sights</a>,\n",
       " None,\n",
       " <a href=\"https://www.nytimes.com/2017/02/18/world/middleeast/trump-dubai-vancouver.html\">Trump’s Dual Roles Collide With Openings in Dubai and Vancouver</a>,\n",
       " <a href=\"https://www.nytimes.com/2017/02/17/arts/design/friends-no-more-jorge-perez-and-donald-trump.html\">Friends No More? Jorge Pérez and Donald Trump</a>,\n",
       " <a href=\"https://www.nytimes.com/2017/02/18/us/politics/trump-candidates-national-security-adviser.html\">Trump to Interview 4 Candidates for Security Adviser</a>,\n",
       " <a href=\"https://www.nytimes.com/2017/02/18/us/a-trump-ally-in-congress-warns-his-state-california-to-make-nice.html\">Trump Ally in Congress Warns California to Make Nice</a>,\n",
       " <a href=\"https://www.nytimes.com/2017/02/17/world/europe/trump-europe.html\">President’s Aides Try to Reassure Europe, but Many Are Wary</a>,\n",
       " <a href=\"https://www.nytimes.com/2017/02/18/us/california-storms.html\">Southern California Reels From Floods After Heavy Rains</a>,\n",
       " <a href=\"https://www.nytimes.com/2017/02/18/world/asia/north-korea-china-coal-imports-suspended.html\">China Suspends All Coal Imports From North Korea</a>,\n",
       " <a href=\"https://www.nytimes.com/2017/02/17/world/asia/north-korea-nuclear-threat.html\">How the Nuclear Threat From North Korea Has Grown</a>,\n",
       " <a href=\"https://www.nytimes.com/2017/02/18/business/energy-environment/nuclear-power-westinghouse-toshiba.html\">The Murky Future of Nuclear Power in the United States</a>,\n",
       " <a href=\"https://www.nytimes.com/2017/02/17/world/africa/democratic-republic-congo-massacre-video-.html\">‘They Are Dying’: Video Seems to Show Massacre in Congo</a>,\n",
       " <a href=\"https://www.nytimes.com/2017/02/18/world/europe/greece-bailout-black-market.html\">Greeks Turn to Black Market as Bailout Showdown Looms</a>]"
      ]
     },
     "execution_count": 5,
     "metadata": {},
     "output_type": "execute_result"
    }
   ],
   "source": [
    "# try pulling the 'a' out of all 'h2' elements\n",
    "# looks like we get mostly headlines\n",
    "\n",
    "al=[h2.find('a') for h2 in sp.findAll(\"h2\")]\n",
    "al[:20]"
   ]
  },
  {
   "cell_type": "code",
   "execution_count": 6,
   "metadata": {
    "collapsed": false
   },
   "outputs": [
    {
     "data": {
      "text/plain": [
       "[['\\n',\n",
       "  <svg aria-label=\"The New York Times\" class=\"nyt-logo\" height=\"64\" role=\"img\" width=\"379\">\n",
       "  <image alt=\"The New York Times\" border=\"0\" height=\"64\" src=\"https://a1.nyt.com/assets/homepage/20170201-155716/images/foundation/logos/nyt-logo-379x64.png\" width=\"379\" xlink:href=\"https://a1.nyt.com/assets/homepage/20170201-155716/images/foundation/logos/nyt-logo-379x64.svg\"></image>\n",
       "  </svg>,\n",
       "  '\\n'],\n",
       " ['Struggling to Fill Jobs When Total Loyalty Is a Must'],\n",
       " ['Trump Budget Hit List Has Programs Long in G.O.P. Sights'],\n",
       " ['Trump’s Dual Roles Collide With Openings in Dubai and Vancouver'],\n",
       " ['Friends No More? Jorge Pérez and Donald Trump'],\n",
       " ['Trump to Interview 4 Candidates for Security Adviser'],\n",
       " ['Trump Ally in Congress Warns California to Make Nice'],\n",
       " ['President’s Aides Try to Reassure Europe, but Many Are Wary'],\n",
       " ['Southern California Reels From Floods After Heavy Rains'],\n",
       " ['China Suspends All Coal Imports From North Korea'],\n",
       " ['How the Nuclear Threat From North Korea Has Grown'],\n",
       " ['The Murky Future of Nuclear Power in the United States'],\n",
       " ['‘They Are Dying’: Video Seems to Show Massacre in Congo'],\n",
       " ['Greeks Turn to Black Market as Bailout Showdown Looms'],\n",
       " ['Dutch Nationalist Politician Calls Moroccan Immigrants ‘Scum’'],\n",
       " ['North Korean Is Arrested in Killing of Leader’s Relative'],\n",
       " ['Bill Maher and Milo Yiannopoulos Find Common Ground'],\n",
       " ['Kraft Heinz Offers to Buy Unilever in $143 Billion Deal'],\n",
       " [<span class=\"contact\">Learn more</span>],\n",
       " ['Norma McCorvey, ‘Roe’ in Roe v. Wade, Is Dead at 69'],\n",
       " ['Great Streaming Documentaries for Nature Nerds'],\n",
       " ['Is a Teen Depressed, or Just Moody?'],\n",
       " ['Free After 8 Years in Guantánamo, He Yearns to Return'],\n",
       " ['Blind Cleric Convicted of Terrorism Plot Dies at 78'],\n",
       " ['Cheesecake for the Soul: A ‘Golden Girls’ Cafe Opens'],\n",
       " ['The New Essentials of French Cooking'],\n",
       " ['The Sweethome Recommends the Right Gear to Get Started'],\n",
       " [' Coq au Vin'],\n",
       " ['U.S. Wrestlers Find They Have Passionate Fans in Iran'],\n",
       " ['Brooklyn Boy, 5, Is Wounded in Pit Bull Attack']]"
      ]
     },
     "execution_count": 6,
     "metadata": {},
     "output_type": "execute_result"
    }
   ],
   "source": [
    "# pull out the 'a' link text \n",
    "\n",
    "[a.contents for a in al if a != None][:30]"
   ]
  },
  {
   "cell_type": "code",
   "execution_count": 7,
   "metadata": {
    "collapsed": false
   },
   "outputs": [
    {
     "data": {
      "text/plain": [
       "[['Struggling to Fill Jobs When Total Loyalty Is a Must'],\n",
       " ['Trump Budget Hit List Has Programs Long in G.O.P. Sights'],\n",
       " ['Trump’s Dual Roles Collide With Openings in Dubai and Vancouver'],\n",
       " ['Friends No More? Jorge Pérez and Donald Trump'],\n",
       " ['Trump to Interview 4 Candidates for Security Adviser'],\n",
       " ['Trump Ally in Congress Warns California to Make Nice'],\n",
       " ['President’s Aides Try to Reassure Europe, but Many Are Wary'],\n",
       " ['Southern California Reels From Floods After Heavy Rains'],\n",
       " ['China Suspends All Coal Imports From North Korea'],\n",
       " ['How the Nuclear Threat From North Korea Has Grown'],\n",
       " ['The Murky Future of Nuclear Power in the United States'],\n",
       " ['‘They Are Dying’: Video Seems to Show Massacre in Congo'],\n",
       " ['Greeks Turn to Black Market as Bailout Showdown Looms'],\n",
       " ['Dutch Nationalist Politician Calls Moroccan Immigrants ‘Scum’'],\n",
       " ['North Korean Is Arrested in Killing of Leader’s Relative'],\n",
       " ['Bill Maher and Milo Yiannopoulos Find Common Ground'],\n",
       " ['Kraft Heinz Offers to Buy Unilever in $143 Billion Deal'],\n",
       " [<span class=\"contact\">Learn more</span>],\n",
       " ['Norma McCorvey, ‘Roe’ in Roe v. Wade, Is Dead at 69'],\n",
       " ['Great Streaming Documentaries for Nature Nerds'],\n",
       " ['Is a Teen Depressed, or Just Moody?'],\n",
       " ['Free After 8 Years in Guantánamo, He Yearns to Return'],\n",
       " ['Blind Cleric Convicted of Terrorism Plot Dies at 78'],\n",
       " ['Cheesecake for the Soul: A ‘Golden Girls’ Cafe Opens'],\n",
       " ['The New Essentials of French Cooking'],\n",
       " ['The Sweethome Recommends the Right Gear to Get Started'],\n",
       " [' Coq au Vin'],\n",
       " ['U.S. Wrestlers Find They Have Passionate Fans in Iran'],\n",
       " ['Brooklyn Boy, 5, Is Wounded in Pit Bull Attack'],\n",
       " ['The Interpreter']]"
      ]
     },
     "execution_count": 7,
     "metadata": {},
     "output_type": "execute_result"
    }
   ],
   "source": [
    "# filter out images\n",
    "\n",
    "[a.contents for a in al if a != None and len(a)==1][:30]"
   ]
  }
 ],
 "metadata": {
  "anaconda-cloud": {},
  "kernelspec": {
   "display_name": "Python [conda root]",
   "language": "python",
   "name": "conda-root-py"
  },
  "language_info": {
   "codemirror_mode": {
    "name": "ipython",
    "version": 3
   },
   "file_extension": ".py",
   "mimetype": "text/x-python",
   "name": "python",
   "nbconvert_exporter": "python",
   "pygments_lexer": "ipython3",
   "version": "3.5.2"
  }
 },
 "nbformat": 4,
 "nbformat_minor": 0
}
