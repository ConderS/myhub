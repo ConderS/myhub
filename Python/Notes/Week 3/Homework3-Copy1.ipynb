{
 "cells": [
  {
   "cell_type": "markdown",
   "metadata": {},
   "source": [
    "# Introduction to Python\n",
    "# Homework #3\n",
    "# Due Thurdsay,  2/9, Noon in Courseworks\n",
    "- You MUST submit on Courseworks before it closes\n",
    "- Email submissions are NOT accepted"
   ]
  },
  {
   "cell_type": "markdown",
   "metadata": {},
   "source": [
    "# Academic Honesty\n",
    "* The computer science department has strict polices. Check\n",
    "the department [web page](http://www.cs.columbia.edu/education/honesty) for details. \n",
    "- Do not look at anybody else's source code. Do not show anybody\n",
    "your source, or leave your source where somebody could see it.\n",
    "You MUST write your own code.\n",
    "- For this class, feel free to discuss issues with other people, but suggest waiting an hour or two after a discussion, before writing your code.\n",
    "-  Cases of non original source will be refered to the Judical Committee.\n",
    "\n"
   ]
  },
  {
   "cell_type": "markdown",
   "metadata": {},
   "source": [
    "## Tips"
   ]
  },
  {
   "cell_type": "code",
   "execution_count": null,
   "metadata": {
    "collapsed": true
   },
   "outputs": [],
   "source": [
    "# you can terminate a generator by using 'return',\n",
    "# or falling off the end of the generator\n",
    "\n",
    "def g1():\n",
    "    yield(1)\n",
    "    yield(2)\n",
    "    return\n",
    "    yield(3)\n",
    "\n",
    "def g2():\n",
    "    yield(1)\n",
    "    yield(2)"
   ]
  },
  {
   "cell_type": "code",
   "execution_count": null,
   "metadata": {
    "collapsed": false
   },
   "outputs": [],
   "source": [
    "# can get the elements from a \n",
    "# FINITE length generator with 'list'\n",
    "\n",
    "list(g1())"
   ]
  },
  {
   "cell_type": "code",
   "execution_count": null,
   "metadata": {
    "collapsed": false
   },
   "outputs": [],
   "source": [
    "list(g2())     "
   ]
  },
  {
   "cell_type": "code",
   "execution_count": null,
   "metadata": {
    "collapsed": false
   },
   "outputs": [],
   "source": [
    "# if a generator calls a 2nd generator for elements, \n",
    "# and the 2nd generator finishes, the 1st one will finish as well\n",
    "\n",
    "def g3(g):\n",
    "    while True:\n",
    "        yield(next(g))\n",
    "\n",
    "for i in g3(g2()):\n",
    "    print(i)"
   ]
  },
  {
   "cell_type": "code",
   "execution_count": 16,
   "metadata": {
    "collapsed": false
   },
   "outputs": [
    {
     "data": {
      "text/plain": [
       "(2, 3)"
      ]
     },
     "execution_count": 16,
     "metadata": {},
     "output_type": "execute_result"
    }
   ],
   "source": [
    "# divmod gives integer quotient and remainder\n",
    "\n",
    "divmod(13, 5)"
   ]
  },
  {
   "cell_type": "code",
   "execution_count": 17,
   "metadata": {
    "collapsed": false
   },
   "outputs": [
    {
     "data": {
      "text/plain": [
       "['0b1011', '0b11111', '0b100000']"
      ]
     },
     "execution_count": 17,
     "metadata": {},
     "output_type": "execute_result"
    }
   ],
   "source": [
    "# 'bin' function yields the binary representation of a int\n",
    "#  returns a string of 0/1's, plus a '0b' prefix\n",
    "\n",
    "[bin(11), bin(31), bin(32)]"
   ]
  },
  {
   "cell_type": "code",
   "execution_count": 18,
   "metadata": {
    "collapsed": false
   },
   "outputs": [
    {
     "data": {
      "text/plain": [
       "'324234213XYZ1234324'"
      ]
     },
     "execution_count": 18,
     "metadata": {},
     "output_type": "execute_result"
    }
   ],
   "source": [
    "# string replace method\n",
    "\n",
    "'324234213foo1234324'.replace('foo','XYZ')"
   ]
  },
  {
   "cell_type": "code",
   "execution_count": 19,
   "metadata": {
    "collapsed": false
   },
   "outputs": [
    {
     "data": {
      "text/plain": [
       "[True, False]"
      ]
     },
     "execution_count": 19,
     "metadata": {},
     "output_type": "execute_result"
    }
   ],
   "source": [
    "# 1 and 0 function as True and False in an 'if' statement\n",
    "\n",
    "[True if 1 else False, True if 0 else False]"
   ]
  },
  {
   "cell_type": "code",
   "execution_count": 20,
   "metadata": {
    "collapsed": false
   },
   "outputs": [
    {
     "data": {
      "text/plain": [
       "{1, 2, 3}"
      ]
     },
     "execution_count": 20,
     "metadata": {},
     "output_type": "execute_result"
    }
   ],
   "source": [
    "# the set constructor function can take a list\n",
    "\n",
    "set([1,2,3])"
   ]
  },
  {
   "cell_type": "code",
   "execution_count": 21,
   "metadata": {
    "collapsed": false
   },
   "outputs": [
    {
     "data": {
      "text/plain": [
       "set()"
      ]
     },
     "execution_count": 21,
     "metadata": {},
     "output_type": "execute_result"
    }
   ],
   "source": [
    "# an empty set prints as 'set()'\n",
    "\n",
    "set([])"
   ]
  },
  {
   "cell_type": "code",
   "execution_count": 22,
   "metadata": {
    "collapsed": false
   },
   "outputs": [
    {
     "data": {
      "text/plain": [
       "[True, False]"
      ]
     },
     "execution_count": 22,
     "metadata": {},
     "output_type": "execute_result"
    }
   ],
   "source": [
    "# can check for presense of a key in a dictionary with 'in' operator\n",
    "d = {'foo':234}\n",
    "['foo' in d, 'bar' in d]"
   ]
  },
  {
   "cell_type": "markdown",
   "metadata": {},
   "source": [
    "# Problem 1a - decimals\n",
    "- define a 'decimals' generator function, that 'generates' the decimal digits of 1/n, where n is an integer greater than 1\n",
    "- if the decimal expansion terminates, like 1/8 = .125, the generator should terminate. otherwise, like for 1/3=.333..., the generator should never stop\n",
    "- use long division to compute the expansion - it is very simple"
   ]
  },
  {
   "cell_type": "code",
   "execution_count": 23,
   "metadata": {
    "collapsed": true
   },
   "outputs": [],
   "source": [
    "def decimals(n):\n",
    "    r = 10\n",
    "    while (r != 0):\n",
    "        q, r = divmod(r, n)\n",
    "        r *= 10\n",
    "        yield q"
   ]
  },
  {
   "cell_type": "code",
   "execution_count": 24,
   "metadata": {
    "collapsed": false
   },
   "outputs": [
    {
     "name": "stdout",
     "output_type": "stream",
     "text": [
      "1 2\n",
      "2 4\n",
      "5 0\n"
     ]
    }
   ],
   "source": [
    "# example: 1/8 = .125\n",
    "# the digits of the expansion are the quotients\n",
    "\n",
    "r = 10\n",
    "q,r = divmod(r,8)\n",
    "print(q,r)\n",
    "r *= 10\n",
    "q,r = divmod(r,8)\n",
    "print(q,r)\n",
    "r *= 10\n",
    "q,r = divmod(r,8)\n",
    "print(q,r)\n",
    "# r == 0, so done"
   ]
  },
  {
   "cell_type": "code",
   "execution_count": 25,
   "metadata": {
    "collapsed": false
   },
   "outputs": [
    {
     "name": "stdout",
     "output_type": "stream",
     "text": [
      "3 1\n",
      "3 1\n"
     ]
    }
   ],
   "source": [
    "# 1/3 = .333...\n",
    "\n",
    "r = 10\n",
    "q,r = divmod(r,3)\n",
    "print(q,r)\n",
    "r *= 10\n",
    "q,r = divmod(r,3)\n",
    "print(q, r)\n",
    "\n",
    "# (q,r) pairs have repeated, will never terminate"
   ]
  },
  {
   "cell_type": "code",
   "execution_count": 26,
   "metadata": {
    "collapsed": false
   },
   "outputs": [
    {
     "data": {
      "text/plain": [
       "[1, 2, 5]"
      ]
     },
     "execution_count": 26,
     "metadata": {},
     "output_type": "execute_result"
    }
   ],
   "source": [
    "# finite generator\n",
    "list(decimals(8))"
   ]
  },
  {
   "cell_type": "code",
   "execution_count": 27,
   "metadata": {
    "collapsed": false
   },
   "outputs": [
    {
     "data": {
      "text/plain": [
       "[3, 3, 3, 3]"
      ]
     },
     "execution_count": 27,
     "metadata": {},
     "output_type": "execute_result"
    }
   ],
   "source": [
    "# infinite generator\n",
    "# can't call 'list' on it\n",
    "\n",
    "g = decimals(3)\n",
    "[next(g), next(g), next(g), next(g)]"
   ]
  },
  {
   "cell_type": "markdown",
   "metadata": {},
   "source": [
    "# Problem 1b - genlimit\n",
    "- define 'genlimit(g, limit)', which generates at most 'limit' number of values from a generator 'g'"
   ]
  },
  {
   "cell_type": "code",
   "execution_count": 28,
   "metadata": {
    "collapsed": true
   },
   "outputs": [],
   "source": [
    "def genlimit(g, limit):\n",
    "    l = 0\n",
    "    while (l < limit):\n",
    "            l += 1\n",
    "            yield next(g)"
   ]
  },
  {
   "cell_type": "code",
   "execution_count": 29,
   "metadata": {
    "collapsed": false
   },
   "outputs": [
    {
     "data": {
      "text/plain": [
       "[1, 2, 5]"
      ]
     },
     "execution_count": 29,
     "metadata": {},
     "output_type": "execute_result"
    }
   ],
   "source": [
    "list(genlimit(decimals(8), 5))"
   ]
  },
  {
   "cell_type": "code",
   "execution_count": 30,
   "metadata": {
    "collapsed": false
   },
   "outputs": [
    {
     "data": {
      "text/plain": [
       "[3, 3, 3, 3, 3]"
      ]
     },
     "execution_count": 30,
     "metadata": {},
     "output_type": "execute_result"
    }
   ],
   "source": [
    "list(genlimit(decimals(3), 5))"
   ]
  },
  {
   "cell_type": "code",
   "execution_count": 31,
   "metadata": {
    "collapsed": false
   },
   "outputs": [
    {
     "data": {
      "text/plain": [
       "[0, 1, 2]"
      ]
     },
     "execution_count": 31,
     "metadata": {},
     "output_type": "execute_result"
    }
   ],
   "source": [
    "# works with any interator\n",
    "\n",
    "list(genlimit(iter(range(30)), 3))"
   ]
  },
  {
   "cell_type": "markdown",
   "metadata": {},
   "source": [
    "# Problem 2 - Deal With Repeated Decimals\n",
    "- genlimit is useful, but never sure what we're missing with an arbitrary limit\n",
    "- since 1/n is a rational number, its decimal expansion must eventually repeat(unlike irrational numbers like PI)\n",
    "- write 'decimals2', a variant of 'decimals' \n",
    "- if the decimal expansion is finite, it should just return the finite set of digits\n",
    "- if the decimal expansion repeats, it should return the digits up to the point it starts repeating. then the final yield should be a list of the repeating sequence of digits\n",
    "- hint - keep a list, 'seen', of the [quotient, remainder] pairs as you generate digits. if you generate a new pair that is already in 'seen', you know you have started to repeat. \n"
   ]
  },
  {
   "cell_type": "code",
   "execution_count": 1,
   "metadata": {
    "collapsed": true
   },
   "outputs": [],
   "source": [
    "def decimals2(n):\n",
    "    r = 10\n",
    "    seen = []\n",
    "    repeatList = []\n",
    "\n",
    "    while (r != 0):\n",
    "        q, r = divmod(r, n)\n",
    "        qrList = [q, r]\n",
    "        seen.extend(qrList)\n",
    "        \n",
    "        for j in range(0, len(seen)-2, 2):\n",
    "            if (q == seen[j] and r == seen[j+1]):\n",
    "                for i in range(0, len(seen)-2, 2):\n",
    "                    repeatList.extend([seen[i]])\n",
    "                yield repeatList\n",
    "                return\n",
    "        r *= 10\n",
    "        yield q"
   ]
  },
  {
   "cell_type": "code",
   "execution_count": 2,
   "metadata": {
    "collapsed": false
   },
   "outputs": [
    {
     "name": "stdout",
     "output_type": "stream",
     "text": [
      "   Expansion of 1/3:\n",
      "[3, [3]]\n",
      "   Expansion of 1/5:\n",
      "[2]\n",
      "   Expansion of 1/7:\n",
      "[1, 4, 2, 8, 5, 7, [1, 4, 2, 8, 5, 7]]\n",
      "   Expansion of 1/9:\n",
      "[1, [1]]\n",
      "   Expansion of 1/11:\n",
      "[0, 9, [0, 9]]\n",
      "   Expansion of 1/13:\n",
      "[0, 7, 6, 9, 2, 3, [0, 7, 6, 9, 2, 3]]\n",
      "   Expansion of 1/15:\n",
      "[0, 6, [0, 6]]\n",
      "   Expansion of 1/17:\n",
      "[0, 5, 8, 8, 2, 3, 5, 2, 9, 4, 1, 1, 7, 6, 4, 7, [0, 5, 8, 8, 2, 3, 5, 2, 9, 4,\n",
      "1, 1, 7, 6, 4, 7]]\n",
      "   Expansion of 1/19:\n",
      "[0, 5, 2, 6, 3, 1, 5, 7, 8, 9, 4, 7, 3, 6, 8, 4, 2, 1, [0, 5, 2, 6, 3, 1, 5, 7,\n",
      "8, 9, 4, 7, 3, 6, 8, 4, 2, 1]]\n",
      "   Expansion of 1/21:\n",
      "[0, 4, 7, 6, 1, 9, [0, 4, 7, 6, 1, 9]]\n",
      "   Expansion of 1/23:\n",
      "[0, 4, 3, 4, 7, 8, 2, 6, 0, 8, 6, 9, 5, 6, 5, 2, 1, 7, 3, 9, 1, 3, [0, 4, 3, 4,\n",
      "7, 8, 2, 6, 0, 8, 6, 9, 5, 6, 5, 2, 1, 7, 3, 9, 1, 3]]\n",
      "   Expansion of 1/25:\n",
      "[0, 4]\n",
      "   Expansion of 1/27:\n",
      "[0, 3, 7, [0, 3, 7]]\n",
      "   Expansion of 1/29:\n",
      "[0, 3, 4, 4, 8, 2, 7, 5, 8, 6, 2, 0, 6, 8, 9, 6, 5, 5, 1, 7, 2, 4, 1, 3, 7, 9,\n",
      "3, 1, [0, 3, 4, 4, 8, 2, 7, 5, 8, 6, 2, 0, 6, 8, 9, 6, 5, 5, 1, 7, 2, 4, 1, 3,\n",
      "7, 9, 3, 1]]\n"
     ]
    }
   ],
   "source": [
    "import textwrap\n",
    "\n",
    "for j in range(3,30,2): \n",
    "    d = list(decimals2(j))\n",
    "    print('   Expansion of 1/' + str(j) + ':')\n",
    "    # hack needed because lines don't wrap in pdf version\n",
    "    print( textwrap.fill(str(d), 80))\n"
   ]
  },
  {
   "cell_type": "markdown",
   "metadata": {},
   "source": [
    "# Problem 3a - select\n",
    "- define a function 'select(input, selectors)', where 'input' and 'selectors' lists are the same length\n",
    "- 'select' returns a new list which consists of the elements of input that have a True value in the corresponding selectors element\n",
    "- remember 'generalized booleans'"
   ]
  },
  {
   "cell_type": "code",
   "execution_count": 5,
   "metadata": {
    "collapsed": true
   },
   "outputs": [],
   "source": [
    "def select(input, selectors):\n",
    "    newL = []\n",
    "    for j, c in enumerate(input):\n",
    "        if (c and selectors[j]):\n",
    "            newL.extend([c])\n",
    "    return newL"
   ]
  },
  {
   "cell_type": "code",
   "execution_count": 6,
   "metadata": {
    "collapsed": false
   },
   "outputs": [
    {
     "data": {
      "text/plain": [
       "[1, 3, 4, 6]"
      ]
     },
     "execution_count": 6,
     "metadata": {},
     "output_type": "execute_result"
    }
   ],
   "source": [
    "select(range(7), [0, 1, '', 'foo', True, [], [1,2]])"
   ]
  },
  {
   "cell_type": "code",
   "execution_count": 7,
   "metadata": {
    "collapsed": false
   },
   "outputs": [
    {
     "data": {
      "text/plain": [
       "[6]"
      ]
     },
     "execution_count": 7,
     "metadata": {},
     "output_type": "execute_result"
    }
   ],
   "source": [
    "select([x*3 for x in [4,2,1]] , [0,1,0])"
   ]
  },
  {
   "cell_type": "markdown",
   "metadata": {},
   "source": [
    "# Problem 3b - intToNDigits\n",
    "- define a function 'intToNDigits(x, n)'\n",
    "- returns a list of the digits(int 0 and 1, not strings) in a base 2 representation of 'x'\n",
    "- list must have n digits, pad with 0 on the left if needed "
   ]
  },
  {
   "cell_type": "code",
   "execution_count": 8,
   "metadata": {
    "collapsed": true
   },
   "outputs": [],
   "source": [
    "def intToNDigits(x, n):\n",
    "    binStr = bin(x)\n",
    "    binStr = binStr.lstrip('0b')\n",
    "    digitsL = []\n",
    "\n",
    "    if (len(binStr) < n):\n",
    "        addStr = \"0\" * (n - len(binStr))\n",
    "        binStr = addStr + binStr\n",
    "  \n",
    "    for s in binStr:\n",
    "        digitsL.extend([int(s)])\n",
    "\n",
    "    return digitsL   "
   ]
  },
  {
   "cell_type": "code",
   "execution_count": 9,
   "metadata": {
    "collapsed": false
   },
   "outputs": [
    {
     "data": {
      "text/plain": [
       "[[1, 1], [0, 0, 0, 0, 1, 1], [1, 0, 1, 1]]"
      ]
     },
     "execution_count": 9,
     "metadata": {},
     "output_type": "execute_result"
    }
   ],
   "source": [
    "[intToNDigits(3, 2), intToNDigits(3, 6), intToNDigits(11, 4)]"
   ]
  },
  {
   "cell_type": "markdown",
   "metadata": {},
   "source": [
    "# Problem 3c - powerSet\n",
    "- using 'select' and'intToNDigits', define a function 'powerSet(x)' that returns a list\n",
    "of all possible subsets of the elements of input list x, including the empty set and the set of all elements\n",
    "- if a set has N elements, the power set will have 2**N elements"
   ]
  },
  {
   "cell_type": "code",
   "execution_count": 10,
   "metadata": {
    "collapsed": true
   },
   "outputs": [],
   "source": [
    "def powerSet(x):\n",
    "  \n",
    "    binList = []\n",
    "    for c in range(len(x)):\n",
    "        binList.extend([0])\n",
    "\n",
    "    setList = []\n",
    "\n",
    "    for j in range(0, (2**len(x))):\n",
    "        newSet= set()\n",
    "        compareList = intToNDigits(j, len(x))\n",
    " \n",
    "        for i in range(len(x)):\n",
    "            binList[i] = 1\n",
    "            newL = select(compareList, binList)\n",
    "            if (1 in newL):\n",
    "                newSet.add(x[i])\n",
    "            binList[i] = 0\n",
    "                \n",
    "        setList.append(newSet)\n",
    "    return setList"
   ]
  },
  {
   "cell_type": "code",
   "execution_count": 11,
   "metadata": {
    "collapsed": false
   },
   "outputs": [
    {
     "data": {
      "text/plain": [
       "[set(),\n",
       " {'butler'},\n",
       " {'math'},\n",
       " {'butler', 'math'},\n",
       " {'avery'},\n",
       " {'avery', 'butler'},\n",
       " {'avery', 'math'},\n",
       " {'avery', 'butler', 'math'}]"
      ]
     },
     "execution_count": 11,
     "metadata": {},
     "output_type": "execute_result"
    }
   ],
   "source": [
    "powerSet(['avery', 'math', 'butler'])"
   ]
  },
  {
   "cell_type": "code",
   "execution_count": 12,
   "metadata": {
    "collapsed": false
   },
   "outputs": [
    {
     "data": {
      "text/plain": [
       "[set(),\n",
       " {'dodge'},\n",
       " {'butler'},\n",
       " {'butler', 'dodge'},\n",
       " {'math'},\n",
       " {'dodge', 'math'},\n",
       " {'butler', 'math'},\n",
       " {'butler', 'dodge', 'math'},\n",
       " {'avery'},\n",
       " {'avery', 'dodge'},\n",
       " {'avery', 'butler'},\n",
       " {'avery', 'butler', 'dodge'},\n",
       " {'avery', 'math'},\n",
       " {'avery', 'dodge', 'math'},\n",
       " {'avery', 'butler', 'math'},\n",
       " {'avery', 'butler', 'dodge', 'math'}]"
      ]
     },
     "execution_count": 12,
     "metadata": {},
     "output_type": "execute_result"
    }
   ],
   "source": [
    "powerSet(['avery', 'math', 'butler', 'dodge'])"
   ]
  },
  {
   "cell_type": "code",
   "execution_count": 13,
   "metadata": {
    "collapsed": false
   },
   "outputs": [
    {
     "data": {
      "text/plain": [
       "16"
      ]
     },
     "execution_count": 13,
     "metadata": {},
     "output_type": "execute_result"
    }
   ],
   "source": [
    "len(powerSet(['avery', 'math', 'butler', 'dodge']))"
   ]
  },
  {
   "cell_type": "markdown",
   "metadata": {},
   "source": [
    "# Problem 4 - generalized dot product(dotn)\n",
    "- take the dot product of any number of lists and finite generators\n",
    "- hints - refering to functions2\n",
    "    - use the variable number of arguments format\n",
    "    - you might find it convenient to 'spread a list of args' to 'zip'\n"
   ]
  },
  {
   "cell_type": "code",
   "execution_count": 37,
   "metadata": {
    "collapsed": false
   },
   "outputs": [],
   "source": [
    "def dotn(*pos):\n",
    "    dotP = 0\n",
    "    num = len(pos)\n",
    "    argList = []\n",
    "\n",
    "    for i in range(num):\n",
    "        argList.append([])\n",
    "        for j in pos[i]:\n",
    "            argList[i].extend([j])\n",
    "\n",
    "    argTuples = list(zip(*argList))\n",
    "    prod = 1\n",
    "    for j, item in enumerate(argTuples):\n",
    "        for i in item:\n",
    "            prod = prod * i   \n",
    "        dotP += prod\n",
    "        prod = 1\n",
    "        \n",
    "    return dotP"
   ]
  },
  {
   "cell_type": "code",
   "execution_count": 38,
   "metadata": {
    "collapsed": false
   },
   "outputs": [
    {
     "data": {
      "text/plain": [
       "83"
      ]
     },
     "execution_count": 38,
     "metadata": {},
     "output_type": "execute_result"
    }
   ],
   "source": [
    "def g(s, e):\n",
    "    for j in range(s, e):\n",
    "        yield j\n",
    "\n",
    "dotn([5,3,9], g(10,12))"
   ]
  },
  {
   "cell_type": "code",
   "execution_count": 39,
   "metadata": {
    "collapsed": false
   },
   "outputs": [
    {
     "data": {
      "text/plain": [
       "83"
      ]
     },
     "execution_count": 39,
     "metadata": {},
     "output_type": "execute_result"
    }
   ],
   "source": [
    "# above is \n",
    "# number of terms is length of shortest sequence\n",
    "\n",
    "5*10 + 3*11 "
   ]
  },
  {
   "cell_type": "code",
   "execution_count": 40,
   "metadata": {
    "collapsed": false
   },
   "outputs": [
    {
     "data": {
      "text/plain": [
       "65"
      ]
     },
     "execution_count": 40,
     "metadata": {},
     "output_type": "execute_result"
    }
   ],
   "source": [
    "dotn([2,3,7], g(0,3), g(2,8))"
   ]
  },
  {
   "cell_type": "code",
   "execution_count": 41,
   "metadata": {
    "collapsed": false
   },
   "outputs": [
    {
     "data": {
      "text/plain": [
       "65"
      ]
     },
     "execution_count": 41,
     "metadata": {},
     "output_type": "execute_result"
    }
   ],
   "source": [
    "# above is \n",
    "\n",
    "2*0*2 + 3*1*3 + 7*2*4"
   ]
  },
  {
   "cell_type": "markdown",
   "metadata": {},
   "source": [
    "# Problem 5a - countBases\n",
    "- define 'countBases(dna)' - returns the number of 'A', 'C', 'G', 'T' bases in a strand of DNA in a dict"
   ]
  },
  {
   "cell_type": "code",
   "execution_count": 4,
   "metadata": {
    "collapsed": true
   },
   "outputs": [],
   "source": [
    "# dna strings use upper case letters\n",
    "\n",
    "bases = 'ACGT'\n",
    "dna = 'CATCGATATCTCTGAGTGCAC'"
   ]
  },
  {
   "cell_type": "code",
   "execution_count": 5,
   "metadata": {
    "collapsed": false
   },
   "outputs": [],
   "source": [
    "def countBases(dna):\n",
    "    genes = {}\n",
    "    a = 0\n",
    "    c = 0\n",
    "    g = 0\n",
    "    t = 0\n",
    "    for char in dna:\n",
    "        if char == 'A':\n",
    "            a += 1\n",
    "        elif char == 'C':\n",
    "            c += 1\n",
    "        elif char == 'G':\n",
    "            g += 1\n",
    "        elif char == 'T':\n",
    "            t += 1\n",
    "    genes['A'] = a\n",
    "    genes['C'] = c\n",
    "    genes['G'] = g\n",
    "    genes['T'] = t\n",
    "\n",
    "    return genes"
   ]
  },
  {
   "cell_type": "code",
   "execution_count": 6,
   "metadata": {
    "collapsed": false
   },
   "outputs": [
    {
     "data": {
      "text/plain": [
       "{'A': 3, 'C': 1, 'G': 0, 'T': 1}"
      ]
     },
     "execution_count": 6,
     "metadata": {},
     "output_type": "execute_result"
    }
   ],
   "source": [
    "countBases('AACAT')"
   ]
  },
  {
   "cell_type": "code",
   "execution_count": 7,
   "metadata": {
    "collapsed": false
   },
   "outputs": [
    {
     "data": {
      "text/plain": [
       "{'A': 5, 'C': 6, 'G': 4, 'T': 6}"
      ]
     },
     "execution_count": 7,
     "metadata": {},
     "output_type": "execute_result"
    }
   ],
   "source": [
    "countBases(dna)"
   ]
  },
  {
   "cell_type": "markdown",
   "metadata": {},
   "source": [
    "# Problem 5b - percentBases\n",
    "- return the percentage of each base in a strand of DNA in a dict"
   ]
  },
  {
   "cell_type": "code",
   "execution_count": 8,
   "metadata": {
    "collapsed": true
   },
   "outputs": [],
   "source": [
    "def percentBases(dna):\n",
    "    genesDict = countBases(dna)\n",
    "    \n",
    "    total = 0\n",
    "    a = genesDict.get('A') \n",
    "    c = genesDict.get('C') \n",
    "    g = genesDict.get('G')\n",
    "    t = genesDict.get('T')\n",
    "    total += a + c + g + t\n",
    "    genesDict['A'] = a/total\n",
    "    genesDict['C'] = c/total\n",
    "    genesDict['G'] = g/total\n",
    "    genesDict['T'] = t/total\n",
    "\n",
    "    return genesDict"
   ]
  },
  {
   "cell_type": "code",
   "execution_count": 9,
   "metadata": {
    "collapsed": false
   },
   "outputs": [
    {
     "data": {
      "text/plain": [
       "{'A': 0.3333333333333333,\n",
       " 'C': 0.3333333333333333,\n",
       " 'G': 0.3333333333333333,\n",
       " 'T': 0.0}"
      ]
     },
     "execution_count": 9,
     "metadata": {},
     "output_type": "execute_result"
    }
   ],
   "source": [
    "percentBases('ACG')"
   ]
  },
  {
   "cell_type": "code",
   "execution_count": 10,
   "metadata": {
    "collapsed": false
   },
   "outputs": [
    {
     "data": {
      "text/plain": [
       "{'A': 0.23809523809523808,\n",
       " 'C': 0.2857142857142857,\n",
       " 'G': 0.19047619047619047,\n",
       " 'T': 0.2857142857142857}"
      ]
     },
     "execution_count": 10,
     "metadata": {},
     "output_type": "execute_result"
    }
   ],
   "source": [
    "percentBases(dna)"
   ]
  },
  {
   "cell_type": "markdown",
   "metadata": {},
   "source": [
    "# Problem 5c - reverseComplement\n",
    "- define 'reverseComplement(dna)' \n",
    "- swaps A <-> T, C <-> G, and returns the new DNA in reverse order"
   ]
  },
  {
   "cell_type": "code",
   "execution_count": 11,
   "metadata": {
    "collapsed": true
   },
   "outputs": [],
   "source": [
    "def reverseComplement(dna):\n",
    "    \n",
    "    dnaList = list(dna)\n",
    "    for i, item in enumerate(dna):\n",
    "        if (item == 'A'):\n",
    "           dnaList[i] = 'T'\n",
    "        elif (item == 'C'):\n",
    "           dnaList[i] = 'G'\n",
    "        elif (item == 'G'):\n",
    "            dnaList[i] = 'C'\n",
    "        elif (item == 'T'):\n",
    "            dnaList[i] = 'A'\n",
    "       \n",
    "    dnaList = dnaList[::-1]\n",
    "    dna = \"\".join(dnaList) \n",
    "    \n",
    "    return dna"
   ]
  },
  {
   "cell_type": "code",
   "execution_count": 12,
   "metadata": {
    "collapsed": false
   },
   "outputs": [
    {
     "data": {
      "text/plain": [
       "'ACGT'"
      ]
     },
     "execution_count": 12,
     "metadata": {},
     "output_type": "execute_result"
    }
   ],
   "source": [
    "reverseComplement('ACGT')"
   ]
  },
  {
   "cell_type": "code",
   "execution_count": 13,
   "metadata": {
    "collapsed": false
   },
   "outputs": [
    {
     "data": {
      "text/plain": [
       "'GTGCACTCAGAGATATCGATG'"
      ]
     },
     "execution_count": 13,
     "metadata": {},
     "output_type": "execute_result"
    }
   ],
   "source": [
    "reverseComplement(dna)"
   ]
  },
  {
   "cell_type": "code",
   "execution_count": null,
   "metadata": {
    "collapsed": true
   },
   "outputs": [],
   "source": []
  }
 ],
 "metadata": {
  "anaconda-cloud": {},
  "kernelspec": {
   "display_name": "Python [conda root]",
   "language": "python",
   "name": "conda-root-py"
  },
  "language_info": {
   "codemirror_mode": {
    "name": "ipython",
    "version": 3
   },
   "file_extension": ".py",
   "mimetype": "text/x-python",
   "name": "python",
   "nbconvert_exporter": "python",
   "pygments_lexer": "ipython3",
   "version": "3.5.2"
  }
 },
 "nbformat": 4,
 "nbformat_minor": 0
}
